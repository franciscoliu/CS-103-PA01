{
 "cells": [
  {
   "cell_type": "markdown",
   "metadata": {},
   "source": [
    "# Courses Demo\n",
    "This Jupyter notebook is for exploring the data set courses20-21.json\n",
    "which consists of all Brandeis courses in the 20-21 academic year (Fall20, Spr21, Sum21) \n",
    "which had at least 1 student enrolled.\n",
    "\n",
    "First we need to read the json file into a list of Python dictionaries"
   ]
  },
  {
   "cell_type": "code",
   "execution_count": 3,
   "metadata": {},
   "outputs": [],
   "source": [
    "import json"
   ]
  },
  {
   "cell_type": "code",
   "execution_count": 4,
   "metadata": {},
   "outputs": [],
   "source": [
    "with open(\"courses20-21.json\",\"r\",encoding='utf-8') as jsonfile:\n",
    "    courses = json.load(jsonfile)"
   ]
  },
  {
   "cell_type": "markdown",
   "metadata": {},
   "source": [
    "## Structure of a course\n",
    "Next we look at the fields of each course dictionary and their values"
   ]
  },
  {
   "cell_type": "code",
   "execution_count": 5,
   "metadata": {},
   "outputs": [
    {
     "name": "stdout",
     "output_type": "stream",
     "text": [
      "there are 7813 courses in the dataset\n",
      "here is the data for course 1246\n"
     ]
    },
    {
     "data": {
      "text/plain": [
       "{'limit': 28,\n",
       " 'times': [{'start': 1080, 'end': 1170, 'days': ['w', 'm']}],\n",
       " 'enrolled': 4,\n",
       " 'details': 'Instruction for this course will be offered remotely. Meeting times for this course are listed in the schedule of classes (in ET).',\n",
       " 'type': 'section',\n",
       " 'status_text': 'Open',\n",
       " 'section': '1',\n",
       " 'waiting': 0,\n",
       " 'instructor': ['An', 'Huang', 'anhuang@brandeis.edu'],\n",
       " 'coinstructors': [],\n",
       " 'code': ['MATH', '223A'],\n",
       " 'subject': 'MATH',\n",
       " 'coursenum': '223A',\n",
       " 'name': 'Lie Algebras: Representation Theory',\n",
       " 'independent_study': False,\n",
       " 'term': '1203',\n",
       " 'description': \"Theorems of Engel and Lie. Semisimple Lie algebras, Cartan's criterion. Universal enveloping algebras, PBW theorem, Serre's construction. Representation theory. Other topics as time permits. Usually offered every second year.\\nAn Huang\"}"
      ]
     },
     "execution_count": 5,
     "metadata": {},
     "output_type": "execute_result"
    }
   ],
   "source": [
    "print('there are',len(courses),'courses in the dataset')\n",
    "print('here is the data for course 1246')\n",
    "courses[1246]"
   ]
  },
  {
   "cell_type": "markdown",
   "metadata": {},
   "source": [
    "## Cleaning the data\n",
    "If we want to sort courses by instructor or by code, we need to replace the lists with tuples (which are immutable lists)"
   ]
  },
  {
   "cell_type": "code",
   "execution_count": 6,
   "metadata": {},
   "outputs": [],
   "source": [
    "for course in courses:\n",
    "        course['instructor'] = tuple(course['instructor'])\n",
    "        course['coinstructors'] = tuple([tuple(f) for f in course['coinstructors']])\n",
    "        course['code']= tuple(course['code'])"
   ]
  },
  {
   "cell_type": "code",
   "execution_count": 7,
   "metadata": {},
   "outputs": [
    {
     "name": "stdout",
     "output_type": "stream",
     "text": [
      "notice that the instructor and code are tuples now\n"
     ]
    },
    {
     "data": {
      "text/plain": [
       "{'limit': 28,\n",
       " 'times': [{'start': 1080, 'end': 1170, 'days': ['w', 'm']}],\n",
       " 'enrolled': 4,\n",
       " 'details': 'Instruction for this course will be offered remotely. Meeting times for this course are listed in the schedule of classes (in ET).',\n",
       " 'type': 'section',\n",
       " 'status_text': 'Open',\n",
       " 'section': '1',\n",
       " 'waiting': 0,\n",
       " 'instructor': ('An', 'Huang', 'anhuang@brandeis.edu'),\n",
       " 'coinstructors': (),\n",
       " 'code': ('MATH', '223A'),\n",
       " 'subject': 'MATH',\n",
       " 'coursenum': '223A',\n",
       " 'name': 'Lie Algebras: Representation Theory',\n",
       " 'independent_study': False,\n",
       " 'term': '1203',\n",
       " 'description': \"Theorems of Engel and Lie. Semisimple Lie algebras, Cartan's criterion. Universal enveloping algebras, PBW theorem, Serre's construction. Representation theory. Other topics as time permits. Usually offered every second year.\\nAn Huang\"}"
      ]
     },
     "execution_count": 7,
     "metadata": {},
     "output_type": "execute_result"
    }
   ],
   "source": [
    "print('notice that the instructor and code are tuples now')\n",
    "courses[1246]"
   ]
  },
  {
   "cell_type": "markdown",
   "metadata": {},
   "source": [
    "# Exploring the data set\n",
    "Now we will show how to use straight python to explore the data set and answer some interesting questions. Next week we will start learning Pandas/Numpy which are packages that make it easier to explore large dataset efficiently.\n",
    "\n",
    "Here are some questions we can try to asnwer:\n",
    "* what are all of the subjects of courses (e.g. COSI, MATH, JAPN, PHIL, ...)\n",
    "* which terms are represented?\n",
    "* how many instructors taught at Brandeis last year?\n",
    "* what were the five largest course sections?\n",
    "* what were the five largest courses (where we combine sections)?\n",
    "* which are the five largest subjects measured by number of courses offered?\n",
    "* which are the five largest courses measured by number of students taught?\n",
    "* which course had the most sections taught in 20-21?\n",
    "* who are the top five faculty in terms of number of students taught?\n",
    "* etc."
   ]
  },
  {
   "cell_type": "markdown",
   "metadata": {},
   "source": [
    "# a) How many faculty taught COSI courses last year?"
   ]
  },
  {
   "cell_type": "code",
   "execution_count": 65,
   "metadata": {},
   "outputs": [
    {
     "name": "stdout",
     "output_type": "stream",
     "text": [
      "There are 27 faculty taught COSI courses last year\n"
     ]
    }
   ],
   "source": [
    "faculty = len({c['instructor'] for c in courses if c['subject'] == 'COSI'})\n",
    "num = print(f\"There are {faculty} faculty taught COSI courses last year\")"
   ]
  },
  {
   "cell_type": "markdown",
   "metadata": {},
   "source": [
    "# b) what is the total number of students taking COSI courses last year?"
   ]
  },
  {
   "cell_type": "code",
   "execution_count": 71,
   "metadata": {},
   "outputs": [
    {
     "name": "stdout",
     "output_type": "stream",
     "text": [
      "There are 2223 students taking COSI courses last year\n"
     ]
    }
   ],
   "source": [
    "# {c['enrolled'] for c in courses}\n",
    "enroll = sum(c['enrolled'] for c in courses if c['subject'] == 'COSI')\n",
    "num = print(f\"There are {enroll} students taking COSI courses last year\")"
   ]
  },
  {
   "cell_type": "markdown",
   "metadata": {},
   "source": [
    "# c) what was the median size of a COSI course last year (counting only those courses with at least 10 students)"
   ]
  },
  {
   "cell_type": "code",
   "execution_count": 97,
   "metadata": {},
   "outputs": [
    {
     "name": "stdout",
     "output_type": "stream",
     "text": [
      "The median size of a COSI course last year is 45.5 students.\n"
     ]
    }
   ],
   "source": [
    "# size = {c for c in courses if c['subject'] == 'COSI' and c['enrolled'] >=10}\n",
    "import statistics\n",
    "student_size = {c['enrolled'] for c in courses if c['subject'] == 'COSI' and c['enrolled'] >=10}\n",
    "median = statistics.median(student_size)\n",
    "num = print(f\"The median size of a COSI course last year is {median} students.\")\n"
   ]
  },
  {
   "cell_type": "markdown",
   "metadata": {},
   "source": [
    "# d) create a list of tuples (E,S) where S is a subject and E is the number of students enrolled in courses in that subject, sort it and print the top 10. This shows the top 10 subjects in terms of number of students taught.\n"
   ]
  },
  {
   "cell_type": "code",
   "execution_count": 116,
   "metadata": {},
   "outputs": [
    {
     "name": "stdout",
     "output_type": "stream",
     "text": [
      "[('AAAS', 0), ('AAAS', 1), ('AAAS', 2), ('AAAS', 5), ('AAAS', 8), ('AAAS', 13), ('AAAS', 15), ('AAAS', 22), ('AAAS', 45), ('AAAS', 50), ('AAAS/HIS', 20), ('AAAS/HIS', 28), ('AAAS/WGS', 23), ('AAAS/WGS', 31), ('AAAS/WGS', 35), ('AAPI', 1), ('AAPI/HIS', 16), ('AAPI/HIS', 40), ('AAPI/WGS', 4), ('AAPI/WGS', 51), ('AAS/AAPI', 13), ('AMST', 0), ('AMST', 1), ('AMST', 5), ('AMST', 16), ('AMST', 17), ('AMST', 18), ('AMST', 19), ('AMST', 20), ('AMST', 21), ('AMST', 22), ('AMST/ENG', 15), ('AMST/ENG', 22), ('AMST/MUS', 22), ('ANTH', 0), ('ANTH', 1), ('ANTH', 2), ('ANTH', 3), ('ANTH', 4), ('ANTH', 5), ('ANTH', 6), ('ANTH', 7), ('ANTH', 8), ('ANTH', 9), ('ANTH', 10), ('ANTH', 11), ('ANTH', 12), ('ANTH', 13), ('ANTH', 14), ('ANTH', 16), ('ANTH', 17), ('ANTH', 18), ('ANTH', 19), ('ANTH', 21), ('ANTH', 22), ('ANTH', 23), ('ANTH', 24), ('ANTH', 25), ('ANTH', 26), ('ANTH', 27), ('ANTH', 28), ('ANTH', 29), ('ANTH', 31), ('ANTH', 33), ('ANTH', 35), ('ANTH', 36), ('ANTH', 39), ('ANTH', 43), ('ANTH', 49), ('ANTH', 100), ('ANTH', 101), ('ANTH/WGS', 26), ('ARBC', 0), ('ARBC', 4), ('ARBC', 5), ('ARBC', 8), ('ARBC', 9), ('ARBC', 10), ('ARBC', 13), ('BCBP', 0), ('BCBP', 1), ('BCBP', 2), ('BCBP', 3), ('BCBP', 4), ('BCBP', 5), ('BCBP', 6), ('BCBP', 10), ('BCHM', 0), ('BCHM', 1), ('BCHM', 2), ('BCHM', 3), ('BCHM', 13), ('BCHM', 16), ('BCHM', 19), ('BCHM', 24), ('BCHM', 28), ('BCHM', 29), ('BCHM', 47), ('BCHM', 65), ('BCHM', 91), ('BIBC', 26), ('BIOL', 0), ('BIOL', 1), ('BIOL', 2), ('BIOL', 3), ('BIOL', 4), ('BIOL', 5), ('BIOL', 6), ('BIOL', 7), ('BIOL', 8), ('BIOL', 9), ('BIOL', 10), ('BIOL', 12), ('BIOL', 13), ('BIOL', 14), ('BIOL', 16), ('BIOL', 17), ('BIOL', 18), ('BIOL', 19), ('BIOL', 20), ('BIOL', 21), ('BIOL', 22), ('BIOL', 23), ('BIOL', 24), ('BIOL', 25), ('BIOL', 26), ('BIOL', 27), ('BIOL', 28), ('BIOL', 29), ('BIOL', 30), ('BIOL', 31), ('BIOL', 32), ('BIOL', 38), ('BIOL', 40), ('BIOL', 42), ('BIOL', 43), ('BIOL', 44), ('BIOL', 46), ('BIOL', 52), ('BIOL', 59), ('BIOL', 61), ('BIOL', 63), ('BIOL', 92), ('BIOL', 105), ('BIOL', 136), ('BIOL', 181), ('BIOL', 186), ('BIOT', 0), ('BIOT', 2), ('BIOT', 3), ('BIOT', 5), ('BIOT', 14), ('BIPH', 0), ('BIPH', 1), ('BISC', 5), ('BISC', 6), ('BISC', 7), ('BISC', 8), ('BISC', 26), ('BUS', 0), ('BUS', 1), ('BUS', 2), ('BUS', 3), ('BUS', 4), ('BUS', 5), ('BUS', 6), ('BUS', 7), ('BUS', 8), ('BUS', 9), ('BUS', 10), ('BUS', 11), ('BUS', 12), ('BUS', 13), ('BUS', 14), ('BUS', 16), ('BUS', 17), ('BUS', 18), ('BUS', 19), ('BUS', 20), ('BUS', 21), ('BUS', 23), ('BUS', 24), ('BUS', 25), ('BUS', 26), ('BUS', 27), ('BUS', 28), ('BUS', 29), ('BUS', 30), ('BUS', 31), ('BUS', 32), ('BUS', 34), ('BUS', 35), ('BUS', 36), ('BUS', 37), ('BUS', 38), ('BUS', 39), ('BUS', 40), ('BUS', 41), ('BUS', 46), ('BUS', 52), ('BUS', 53), ('BUS', 56), ('BUS', 62), ('BUS/ECON', 16), ('BUS/ECON', 27), ('BUS/FIN', 9), ('BUS/FIN', 33), ('BUS/FIN', 34), ('CA', 20), ('CA', 21), ('CAST', 0), ('CAST', 1), ('CAST', 3), ('CAST', 4), ('CAST', 20), ('CAST', 44), ('CBIO', 22), ('CHEM', 0), ('CHEM', 1), ('CHEM', 2), ('CHEM', 3), ('CHEM', 4), ('CHEM', 5), ('CHEM', 6), ('CHEM', 7), ('CHEM', 8), ('CHEM', 10), ('CHEM', 11), ('CHEM', 12), ('CHEM', 14), ('CHEM', 15), ('CHEM', 16), ('CHEM', 17), ('CHEM', 18), ('CHEM', 21), ('CHEM', 22), ('CHEM', 23), ('CHEM', 24), ('CHEM', 27), ('CHEM', 28), ('CHEM', 29), ('CHEM', 33), ('CHEM', 37), ('CHEM', 38), ('CHEM', 39), ('CHEM', 42), ('CHEM', 43), ('CHEM', 44), ('CHEM', 46), ('CHEM', 47), ('CHEM', 49), ('CHEM', 51), ('CHEM', 52), ('CHEM', 53), ('CHEM', 55), ('CHEM', 65), ('CHEM', 66), ('CHEM', 68), ('CHEM', 69), ('CHEM', 71), ('CHEM', 80), ('CHEM', 180), ('CHEM', 186), ('CHIN', 0), ('CHIN', 1), ('CHIN', 3), ('CHIN', 8), ('CHIN', 9), ('CHIN', 10), ('CHIN', 11), ('CHIN', 12), ('CHIN', 13), ('CHIN', 14), ('CHIN', 16), ('CHIN', 17), ('CHIN', 18), ('CHIN', 19), ('CHIN', 21), ('CHIN', 28), ('CHIN', 29), ('CHIN', 38), ('CHIN', 59), ('CHSC', 20), ('CLAS', 0), ('CLAS', 1), ('CLAS', 4), ('CLAS', 5), ('CLAS', 6), ('CLAS', 8), ('CLAS', 11), ('CLAS', 16), ('CLAS', 21), ('CLAS', 30), ('CLAS', 39), ('CLAS', 40), ('CLAS', 43), ('CLAS/ENG', 18), ('CLAS/NEJ', 20), ('COMH', 0), ('COML', 0), ('COML', 8), ('COML', 14), ('COMP', 7), ('COMP', 9), ('COMP', 10), ('COMP', 11), ('COMP', 13), ('COMP', 15), ('COSI', 0), ('COSI', 1), ('COSI', 2), ('COSI', 3), ('COSI', 5), ('COSI', 6), ('COSI', 8), ('COSI', 9), ('COSI', 10), ('COSI', 11), ('COSI', 13), ('COSI', 14), ('COSI', 15), ('COSI', 17), ('COSI', 18), ('COSI', 20), ('COSI', 21), ('COSI', 25), ('COSI', 30), ('COSI', 32), ('COSI', 33), ('COSI', 37), ('COSI', 39), ('COSI', 43), ('COSI', 44), ('COSI', 47), ('COSI', 48), ('COSI', 56), ('COSI', 61), ('COSI', 66), ('COSI', 67), ('COSI', 78), ('COSI', 84), ('COSI', 87), ('COSI', 92), ('COSI', 94), ('COSI', 96), ('COSI', 99), ('COSI', 101), ('COSI', 102), ('COSI', 150), ('COSI', 166), ('EAS', 0), ('EAS', 1), ('EBIO', 0), ('EBIO', 1), ('ECON', 0), ('ECON', 1), ('ECON', 2), ('ECON', 3), ('ECON', 4), ('ECON', 5), ('ECON', 6), ('ECON', 7), ('ECON', 8), ('ECON', 9), ('ECON', 10), ('ECON', 11), ('ECON', 12), ('ECON', 13), ('ECON', 14), ('ECON', 15), ('ECON', 16), ('ECON', 17), ('ECON', 18), ('ECON', 19), ('ECON', 20), ('ECON', 21), ('ECON', 23), ('ECON', 24), ('ECON', 25), ('ECON', 27), ('ECON', 28), ('ECON', 29), ('ECON', 30), ('ECON', 31), ('ECON', 32), ('ECON', 33), ('ECON', 34), ('ECON', 35), ('ECON', 36), ('ECON', 37), ('ECON', 39), ('ECON', 41), ('ECON', 43), ('ECON', 46), ('ECON', 47), ('ECON', 52), ('ECON', 56), ('ECON', 58), ('ECON', 60), ('ECON', 69), ('ECON', 71), ('ECON', 83), ('ECON', 104), ('ECON/FIN', 17), ('ECON/FIN', 24), ('ECON/FIN', 35), ('ECS', 0), ('ECS', 1), ('ECS', 7), ('ECS/ENG', 18), ('ED', 0), ('ED', 1), ('ED', 2), ('ED', 3), ('ED', 4), ('ED', 5), ('ED', 6), ('ED', 7), ('ED', 8), ('ED', 12), ('ED', 13), ('ED', 15), ('ED', 17), ('ED', 18), ('ED', 19), ('ED', 20), ('ED', 21), ('ED', 22), ('ED', 24), ('ED', 25), ('ED', 26), ('ED', 31), ('ED', 36), ('ED', 37), ('EL', 0), ('EL', 3), ('EL', 4), ('EL', 5), ('EL', 6), ('EL', 7), ('EL', 8), ('EL', 9), ('EL', 10), ('EL', 11), ('EL', 12), ('EL', 13), ('EL', 15), ('EL', 32), ('EL', 38), ('ENG', 0), ('ENG', 1), ('ENG', 2), ('ENG', 3), ('ENG', 4), ('ENG', 5), ('ENG', 6), ('ENG', 7), ('ENG', 8), ('ENG', 9), ('ENG', 10), ('ENG', 11), ('ENG', 12), ('ENG', 13), ('ENG', 14), ('ENG', 15), ('ENG', 16), ('ENG', 17), ('ENG', 18), ('ENG', 19), ('ENG', 20), ('ENG', 21), ('ENG', 22), ('ENG', 23), ('ENG', 25), ('ENG', 26), ('ENG', 29), ('ENG', 30), ('ENG', 34), ('ENG', 38), ('ENG', 39), ('ENG', 40), ('ENG', 44), ('ENG', 52), ('ENG', 71), ('ENVS', 0), ('ENVS', 1), ('ENVS', 2), ('ENVS', 6), ('ENVS', 19), ('ENVS', 22), ('ENVS', 23), ('ENVS', 25), ('ENVS', 28), ('ENVS', 31), ('ENVS', 35), ('ENVS', 36), ('ENVS', 141), ('ESL', 5), ('ESL', 6), ('ESL', 7), ('ESL', 8), ('ESL', 9), ('FA', 0), ('FA', 1), ('FA', 2), ('FA', 3), ('FA', 4), ('FA', 6), ('FA', 8), ('FA', 9), ('FA', 10), ('FA', 11), ('FA', 12), ('FA', 13), ('FA', 14), ('FA', 15), ('FA', 16), ('FA', 18), ('FA', 19), ('FA', 22), ('FA', 25), ('FA', 26), ('FA', 27), ('FA', 29), ('FA', 30), ('FA', 32), ('FA', 33), ('FILM', 0), ('FILM', 1), ('FILM', 2), ('FILM', 5), ('FILM', 15), ('FILM', 17), ('FILM', 43), ('FIN', 0), ('FIN', 1), ('FIN', 2), ('FIN', 3), ('FIN', 4), ('FIN', 5), ('FIN', 6), ('FIN', 7), ('FIN', 8), ('FIN', 9), ('FIN', 10), ('FIN', 11), ('FIN', 12), ('FIN', 13), ('FIN', 14), ('FIN', 15), ('FIN', 18), ('FIN', 19), ('FIN', 20), ('FIN', 21), ('FIN', 22), ('FIN', 23), ('FIN', 24), ('FIN', 25), ('FIN', 29), ('FIN', 30), ('FIN', 33), ('FIN', 34), ('FIN', 35), ('FIN', 36), ('FIN', 39), ('FIN', 40), ('FIN', 43), ('FIN', 45), ('FREN', 0), ('FREN', 6), ('FREN', 8), ('FREN', 10), ('FREN', 11), ('FREN', 12), ('FREN', 13), ('FREN', 14), ('FREN', 15), ('FREN', 16), ('FREN', 18), ('GECS', 10), ('GER', 0), ('GER', 1), ('GER', 6), ('GER', 7), ('GER', 11), ('GER', 16), ('GER', 18), ('GRK', 0), ('GRK', 5), ('GRK', 6), ('GRK', 7), ('GRK', 8), ('GS', 0), ('HBRW', 0), ('HBRW', 5), ('HBRW', 6), ('HBRW', 7), ('HBRW', 8), ('HBRW', 9), ('HBRW', 10), ('HBRW', 11), ('HBRW', 12), ('HBRW', 13), ('HBRW', 16), ('HISP', 0), ('HISP', 5), ('HISP', 6), ('HISP', 7), ('HISP', 8), ('HISP', 10), ('HISP', 11), ('HISP', 12), ('HISP', 13), ('HISP', 15), ('HISP', 16), ('HISP', 17), ('HISP', 18), ('HISP', 19), ('HISP', 20), ('HISP', 21), ('HISP', 22), ('HISP', 25), ('HISP', 28), ('HIST', 0), ('HIST', 1), ('HIST', 2), ('HIST', 3), ('HIST', 4), ('HIST', 5), ('HIST', 6), ('HIST', 7), ('HIST', 11), ('HIST', 12), ('HIST', 13), ('HIST', 14), ('HIST', 15), ('HIST', 18), ('HIST', 19), ('HIST', 20), ('HIST', 21), ('HIST', 22), ('HIST', 24), ('HIST', 25), ('HIST', 26), ('HIST', 28), ('HIST', 29), ('HIST', 35), ('HIST', 51), ('HIST', 57), ('HIST', 84), ('HIST/SOC', 15), ('HIST/WGS', 21), ('HOID', 0), ('HRNS', 0), ('HRNS', 1), ('HRNS', 3), ('HRNS', 4), ('HRNS', 8), ('HRNS', 9), ('HRNS', 10), ('HRNS', 14), ('HRNS', 16), ('HRNS', 18), ('HRNS', 19), ('HRNS', 22), ('HS', 0), ('HS', 1), ('HS', 2), ('HS', 3), ('HS', 4), ('HS', 6), ('HS', 7), ('HS', 8), ('HS', 9), ('HS', 10), ('HS', 11), ('HS', 12), ('HS', 13), ('HS', 14), ('HS', 15), ('HS', 16), ('HS', 17), ('HS', 18), ('HS', 19), ('HS', 20), ('HS', 21), ('HS', 22), ('HS', 23), ('HS', 24), ('HS', 25), ('HS', 26), ('HS', 27), ('HS', 28), ('HS', 29), ('HS', 30), ('HS', 31), ('HS', 32), ('HS', 33), ('HS', 34), ('HS', 35), ('HS', 36), ('HS', 37), ('HS', 38), ('HS', 39), ('HS', 41), ('HS', 42), ('HS', 43), ('HS', 45), ('HS', 46), ('HS', 47), ('HS', 52), ('HS', 53), ('HS', 56), ('HS', 70), ('HS', 175), ('HS/POL', 6), ('HSSP', 0), ('HSSP', 1), ('HSSP', 5), ('HSSP', 7), ('HSSP', 10), ('HSSP', 14), ('HSSP', 22), ('HSSP', 23), ('HSSP', 24), ('HSSP', 25), ('HSSP', 26), ('HSSP', 27), ('HSSP', 30), ('HSSP', 33), ('HSSP', 34), ('HSSP', 35), ('HSSP', 38), ('HUM', 9), ('HUM/UWS', 14), ('HUM/UWS', 22), ('HWL', 0), ('HWL', 2), ('HWL', 4), ('HWL', 5), ('HWL', 7), ('HWL', 8), ('HWL', 9), ('HWL', 10), ('HWL', 11), ('HWL', 12), ('HWL', 13), ('HWL', 14), ('HWL', 15), ('HWL', 16), ('HWL', 17), ('HWL', 18), ('HWL', 19), ('HWL', 20), ('HWL', 21), ('HWL', 22), ('HWL', 23), ('HWL', 24), ('HWL', 25), ('HWL', 26), ('HWL', 27), ('HWL', 28), ('HWL', 30), ('HWL', 38), ('HWL', 42), ('HWL', 47), ('HWL', 95), ('HWL', 784), ('IGS', 0), ('IGS', 1), ('IGS', 4), ('IGS', 5), ('IGS', 9), ('IGS', 11), ('IGS', 21), ('IGS', 23), ('IGS', 28), ('IGS', 29), ('IGS', 48), ('IGS', 50), ('IIM', 0), ('IIM', 1), ('IMES', 0), ('IMES', 13), ('INT', 4), ('INT', 7), ('INT', 39), ('ITAL', 0), ('ITAL', 4), ('ITAL', 6), ('ITAL', 8), ('ITAL', 10), ('ITAL', 11), ('ITAL', 12), ('ITAL', 15), ('ITAL', 16), ('JAPN', 0), ('JAPN', 3), ('JAPN', 4), ('JAPN', 6), ('JAPN', 7), ('JAPN', 8), ('JAPN', 9), ('JAPN', 10), ('JAPN', 12), ('JAPN', 13), ('JAPN', 14), ('JAPN', 16), ('JAPN', 17), ('JAPN', 18), ('JAPN', 19), ('JOUR', 0), ('JOUR', 1), ('JOUR', 7), ('JOUR', 8), ('JOUR', 9), ('JOUR', 11), ('JOUR', 15), ('JOUR', 17), ('JOUR', 20), ('JOUR', 22), ('JOUR', 25), ('KOR', 0), ('KOR', 1), ('KOR', 10), ('KOR', 11), ('KOR', 17), ('KOR', 20), ('KOR', 24), ('LALS', 0), ('LALS', 18), ('LALS', 25), ('LAT', 0), ('LAT', 8), ('LAT', 9), ('LAT', 10), ('LAT', 12), ('LGLS', 0), ('LGLS', 1), ('LGLS', 14), ('LGLS', 15), ('LGLS', 19), ('LGLS', 21), ('LGLS', 23), ('LGLS', 24), ('LGLS', 25), ('LGLS', 28), ('LGLS', 29), ('LGLS', 30), ('LGLS', 46), ('LGLS', 63), ('LGLS', 72), ('LGLS', 145), ('LING', 0), ('LING', 7), ('LING', 12), ('LING', 13), ('LING', 15), ('LING', 21), ('LING', 24), ('LING', 28), ('LING', 41), ('LING', 63), ('MATH', 0), ('MATH', 1), ('MATH', 2), ('MATH', 4), ('MATH', 5), ('MATH', 6), ('MATH', 7), ('MATH', 8), ('MATH', 9), ('MATH', 10), ('MATH', 11), ('MATH', 12), ('MATH', 13), ('MATH', 14), ('MATH', 15), ('MATH', 16), ('MATH', 17), ('MATH', 18), ('MATH', 19), ('MATH', 20), ('MATH', 22), ('MATH', 23), ('MATH', 24), ('MATH', 25), ('MATH', 26), ('MATH', 27), ('MATH', 28), ('MATH', 29), ('MATH', 32), ('MATH', 35), ('MATH', 38), ('MATH', 40), ('MATH', 42), ('MATH', 43), ('MATH', 48), ('MATH', 49), ('MATH', 52), ('MATH', 55), ('MATH', 59), ('MATH', 65), ('MATH', 68), ('MATH', 76), ('MERS', 0), ('MUS', 0), ('MUS', 1), ('MUS', 2), ('MUS', 3), ('MUS', 4), ('MUS', 5), ('MUS', 6), ('MUS', 7), ('MUS', 8), ('MUS', 9), ('MUS', 10), ('MUS', 11), ('MUS', 12), ('MUS', 13), ('MUS', 15), ('MUS', 17), ('MUS', 21), ('MUS', 28), ('MUS', 32), ('MUS', 34), ('MUS', 36), ('MUS', 45), ('NBIO', 6), ('NBIO', 8), ('NBIO', 11), ('NBIO', 19), ('NBIO', 21), ('NBIO', 25), ('NBIO', 29), ('NBIO', 30), ('NBIO', 56), ('NBIO', 61), ('NBIO', 70), ('NEJS', 0), ('NEJS', 1), ('NEJS', 2), ('NEJS', 3), ('NEJS', 4), ('NEJS', 5), ('NEJS', 6), ('NEJS', 7), ('NEJS', 8), ('NEJS', 9), ('NEJS', 10), ('NEJS', 11), ('NEJS', 12), ('NEJS', 14), ('NEJS', 16), ('NEJS', 17), ('NEJS', 23), ('NEJS', 24), ('NEJS', 28), ('NEJS', 29), ('NEJS', 42), ('NEUR', 0), ('NEUR', 1), ('NEUR', 2), ('NEUR', 3), ('NEUR', 4), ('NEUR', 5), ('NEUR', 6), ('NEUR', 9), ('NPSY', 11), ('NPSY', 14), ('NPSY', 15), ('NPSY', 16), ('NPSY', 18), ('NPSY', 19), ('NPSY', 20), ('NPSY', 23), ('NPSY', 40), ('NPSY', 45), ('NPSY', 135), ('PAX', 0), ('PAX', 1), ('PAX', 22), ('PHIL', 0), ('PHIL', 1), ('PHIL', 2), ('PHIL', 3), ('PHIL', 5), ('PHIL', 6), ('PHIL', 11), ('PHIL', 16), ('PHIL', 18), ('PHIL', 19), ('PHIL', 22), ('PHIL', 28), ('PHIL', 29), ('PHIL', 31), ('PHIL', 33), ('PHIL', 35), ('PHIL', 39), ('PHIL', 54), ('PHIL', 55), ('PHIL', 59), ('PHIL', 76), ('PHIL', 80), ('PHYS', 0), ('PHYS', 1), ('PHYS', 2), ('PHYS', 3), ('PHYS', 4), ('PHYS', 5), ('PHYS', 7), ('PHYS', 8), ('PHYS', 9), ('PHYS', 10), ('PHYS', 11), ('PHYS', 12), ('PHYS', 13), ('PHYS', 20), ('PHYS', 23), ('PHYS', 24), ('PHYS', 25), ('PHYS', 29), ('PHYS', 37), ('PHYS', 52), ('PHYS', 63), ('PHYS', 75), ('PHYS', 77), ('PHYS', 107), ('PHYS', 109), ('PMED', 0), ('POL', 0), ('POL', 1), ('POL', 2), ('POL', 3), ('POL', 5), ('POL', 6), ('POL', 7), ('POL', 8), ('POL', 9), ('POL', 10), ('POL', 11), ('POL', 12), ('POL', 13), ('POL', 14), ('POL', 15), ('POL', 16), ('POL', 17), ('POL', 18), ('POL', 19), ('POL', 20), ('POL', 23), ('POL', 28), ('POL', 30), ('POL', 33), ('POL', 38), ('POL', 43), ('POL', 44), ('POL', 46), ('POL', 56), ('POL', 77), ('POL', 79), ('POL/WGS', 24), ('PSYC', 0), ('PSYC', 1), ('PSYC', 2), ('PSYC', 3), ('PSYC', 4), ('PSYC', 5), ('PSYC', 6), ('PSYC', 7), ('PSYC', 8), ('PSYC', 9), ('PSYC', 10), ('PSYC', 11), ('PSYC', 15), ('PSYC', 20), ('PSYC', 22), ('PSYC', 23), ('PSYC', 24), ('PSYC', 25), ('PSYC', 30), ('PSYC', 48), ('PSYC', 68), ('PSYC', 77), ('PSYC', 88), ('PSYC', 96), ('PSYC', 103), ('PSYC', 105), ('PSYC', 119), ('PSYC', 166), ('PSYC', 170), ('QBIO', 6), ('QBIO', 11), ('QBIO', 15), ('QBIO', 16), ('QR', 30), ('RBIF', 1), ('RBIF', 4), ('RBIF', 7), ('RBIF', 9), ('RBIF', 10), ('RBIF', 11), ('RBIF', 12), ('RBIF', 15), ('RBOT', 2), ('RBOT', 7), ('RBOT', 9), ('RBOT', 12), ('RBOT', 13), ('RCOM', 13), ('RCOM', 16), ('RCOM', 17), ('RDFT', 1), ('RDFT', 2), ('RDFT', 7), ('RDFT', 8), ('RDFT', 9), ('RDMD', 9), ('RDMD', 10), ('RDMD', 12), ('RDMD', 13), ('RDMD', 14), ('RDMD', 15), ('RDMD', 17), ('RDMD', 18), ('RDMD', 22), ('RECS', 4), ('RECS', 5), ('RECS', 19), ('RECS/THA', 14), ('REL', 0), ('REL', 7), ('REL', 19), ('REL', 26), ('RHIN', 5), ('RHIN', 6), ('RHIN', 7), ('RHIN', 8), ('RHIN', 9), ('RHIN', 10), ('RIAS', 3), ('RIAS', 4), ('RIAS', 6), ('RIAS', 7), ('RIAS', 8), ('RIDT', 1), ('RIDT', 2), ('RIDT', 4), ('RIDT', 9), ('RIDT', 10), ('RIDT', 11), ('RIDT', 14), ('RMGT', 2), ('RMGT', 4), ('RMGT', 6), ('RMGT', 9), ('RMGT', 10), ('RMGT', 13), ('RMGT', 14), ('RMGT', 15), ('RPJM', 6), ('RPJM', 9), ('RPJM', 10), ('RPJM', 11), ('RPJM', 12), ('RPJM', 13), ('RPJM', 14), ('RPJM', 15), ('RPJM', 16), ('RPJM', 17), ('RSAN', 5), ('RSAN', 7), ('RSAN', 8), ('RSAN', 9), ('RSAN', 10), ('RSAN', 12), ('RSAN', 15), ('RSAN', 17), ('RSEG', 2), ('RSEG', 3), ('RSEG', 4), ('RSEG', 5), ('RSEG', 6), ('RSEG', 7), ('RSEG', 10), ('RUCD', 1), ('RUCD', 7), ('RUCD', 8), ('RUCD', 9), ('RUCD', 10), ('RUCD', 11), ('RUCD', 12), ('RUCD', 13), ('RUCD', 14), ('RUCD', 15), ('RUCD', 17), ('RUCD', 18), ('RUCD', 20), ('RUS', 0), ('RUS', 1), ('RUS', 3), ('RUS', 4), ('RUS', 6), ('RUS', 9), ('RUS', 10), ('RUS', 11), ('RUS', 12), ('SAS', 0), ('SAS', 14), ('SJSP', 0), ('SJSP', 7), ('SOC', 0), ('SOC', 1), ('SOC', 2), ('SOC', 4), ('SOC', 6), ('SOC', 7), ('SOC', 8), ('SOC', 10), ('SOC', 13), ('SOC', 16), ('SOC', 17), ('SOC', 20), ('SOC', 21), ('SOC', 22), ('SOC', 23), ('SOC', 25), ('SOC', 27), ('SOC', 29), ('SOC', 30), ('SOC', 49), ('SOC', 56), ('SOC', 64), ('SOC', 75), ('SOC', 90), ('SOC', 92), ('SOC', 103), ('THA', 0), ('THA', 1), ('THA', 2), ('THA', 3), ('THA', 4), ('THA', 6), ('THA', 7), ('THA', 8), ('THA', 9), ('THA', 10), ('THA', 12), ('THA', 13), ('THA', 14), ('THA', 15), ('THA', 18), ('THA', 20), ('THA', 21), ('THA', 22), ('THA', 23), ('THA', 24), ('THA', 27), ('THA', 37), ('UWS', 2), ('UWS', 9), ('UWS', 14), ('UWS', 15), ('UWS', 16), ('UWS', 17), ('UWS', 18), ('WGS', 0), ('WGS', 1), ('WGS', 2), ('WGS', 9), ('WGS', 12), ('WGS', 14), ('WGS', 15), ('WGS', 16), ('WGS', 28), ('WGS', 31), ('WGS', 37), ('WGS', 41), ('WGS', 51), ('YDSH', 0), ('YDSH', 4), ('YDSH', 5), ('YDSH', 6), ('YDSH', 9)]\n"
     ]
    }
   ],
   "source": [
    "# temp = set()\n",
    "# for c in courses:\n",
    "#     temp.add((c['subject'], c['enrolled']))\n",
    "    \n",
    "    \n",
    "all_course_size = {(c['subject'], c['enrolled']) for c in courses}\n",
    "print(sorted(all_course_size))"
   ]
  },
  {
   "cell_type": "markdown",
   "metadata": {},
   "source": [
    "# e) do the same as in (d) but print the top 10 subjects in terms of number of courses offered\n"
   ]
  },
  {
   "cell_type": "code",
   "execution_count": null,
   "metadata": {},
   "outputs": [],
   "source": []
  },
  {
   "cell_type": "markdown",
   "metadata": {},
   "source": [
    "# f) do the same as (d) but print the top 10 subjects in terms of number of faculty teaching courses in that subject\n"
   ]
  },
  {
   "cell_type": "code",
   "execution_count": null,
   "metadata": {},
   "outputs": [],
   "source": []
  },
  {
   "cell_type": "markdown",
   "metadata": {},
   "source": [
    "# g) list the top 20 faculty in terms of number of students they taught\n"
   ]
  },
  {
   "cell_type": "code",
   "execution_count": null,
   "metadata": {},
   "outputs": [],
   "source": []
  },
  {
   "cell_type": "markdown",
   "metadata": {},
   "source": [
    "# h) list the top 20 courses in terms of number of students taking that course (where you combine different sections and semesters, i.e. just use the subject and course number)\n"
   ]
  },
  {
   "cell_type": "code",
   "execution_count": null,
   "metadata": {},
   "outputs": [],
   "source": []
  },
  {
   "cell_type": "markdown",
   "metadata": {},
   "source": [
    "# i) Create your own interesting question (each team member creates their own) and use Python to answer that question."
   ]
  },
  {
   "cell_type": "code",
   "execution_count": null,
   "metadata": {},
   "outputs": [],
   "source": []
  }
 ],
 "metadata": {
  "kernelspec": {
   "display_name": "Python 3 (ipykernel)",
   "language": "python",
   "name": "python3"
  },
  "language_info": {
   "codemirror_mode": {
    "name": "ipython",
    "version": 3
   },
   "file_extension": ".py",
   "mimetype": "text/x-python",
   "name": "python",
   "nbconvert_exporter": "python",
   "pygments_lexer": "ipython3",
   "version": "3.9.7"
  }
 },
 "nbformat": 4,
 "nbformat_minor": 4
}
