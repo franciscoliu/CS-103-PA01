{
 "cells": [
  {
   "cell_type": "markdown",
   "metadata": {},
   "source": [
    "# Courses Demo\n",
    "This Jupyter notebook is for exploring the data set courses20-21.json\n",
    "which consists of all Brandeis courses in the 20-21 academic year (Fall20, Spr21, Sum21) \n",
    "which had at least 1 student enrolled.\n",
    "\n",
    "First we need to read the json file into a list of Python dictionaries"
   ]
  },
  {
   "cell_type": "code",
   "execution_count": 1,
   "metadata": {},
   "outputs": [],
   "source": [
    "import json"
   ]
  },
  {
   "cell_type": "code",
   "execution_count": 5,
   "metadata": {},
   "outputs": [],
   "source": [
    "with open(\"courses20-21.json\",\"r\",encoding='utf-8') as jsonfile:\n",
    "    courses = json.load(jsonfile)"
   ]
  },
  {
   "cell_type": "markdown",
   "metadata": {},
   "source": [
    "## Structure of a course\n",
    "Next we look at the fields of each course dictionary and their values"
   ]
  },
  {
   "cell_type": "code",
   "execution_count": 5,
   "metadata": {},
   "outputs": [
    {
     "name": "stdout",
     "output_type": "stream",
     "text": [
      "there are 7813 courses in the dataset\n",
      "here is the data for course 1246\n"
     ]
    },
    {
     "data": {
      "text/plain": [
       "{'limit': 28,\n",
       " 'times': [{'start': 1080, 'end': 1170, 'days': ['w', 'm']}],\n",
       " 'enrolled': 4,\n",
       " 'details': 'Instruction for this course will be offered remotely. Meeting times for this course are listed in the schedule of classes (in ET).',\n",
       " 'type': 'section',\n",
       " 'status_text': 'Open',\n",
       " 'section': '1',\n",
       " 'waiting': 0,\n",
       " 'instructor': ['An', 'Huang', 'anhuang@brandeis.edu'],\n",
       " 'coinstructors': [],\n",
       " 'code': ['MATH', '223A'],\n",
       " 'subject': 'MATH',\n",
       " 'coursenum': '223A',\n",
       " 'name': 'Lie Algebras: Representation Theory',\n",
       " 'independent_study': False,\n",
       " 'term': '1203',\n",
       " 'description': \"Theorems of Engel and Lie. Semisimple Lie algebras, Cartan's criterion. Universal enveloping algebras, PBW theorem, Serre's construction. Representation theory. Other topics as time permits. Usually offered every second year.\\nAn Huang\"}"
      ]
     },
     "execution_count": 5,
     "metadata": {},
     "output_type": "execute_result"
    }
   ],
   "source": [
    "print('there are',len(courses),'courses in the dataset')\n",
    "print('here is the data for course 1246')\n",
    "courses[1246]"
   ]
  },
  {
   "cell_type": "markdown",
   "metadata": {},
   "source": [
    "## Cleaning the data\n",
    "If we want to sort courses by instructor or by code, we need to replace the lists with tuples (which are immutable lists)"
   ]
  },
  {
   "cell_type": "code",
   "execution_count": 6,
   "metadata": {},
   "outputs": [],
   "source": [
    "for course in courses:\n",
    "        course['instructor'] = tuple(course['instructor'])\n",
    "        course['coinstructors'] = tuple([tuple(f) for f in course['coinstructors']])\n",
    "        course['code']= tuple(course['code'])"
   ]
  },
  {
   "cell_type": "code",
   "execution_count": 7,
   "metadata": {},
   "outputs": [
    {
     "name": "stdout",
     "output_type": "stream",
     "text": [
      "notice that the instructor and code are tuples now\n"
     ]
    },
    {
     "data": {
      "text/plain": [
       "{'limit': 28,\n",
       " 'times': [{'start': 1080, 'end': 1170, 'days': ['w', 'm']}],\n",
       " 'enrolled': 4,\n",
       " 'details': 'Instruction for this course will be offered remotely. Meeting times for this course are listed in the schedule of classes (in ET).',\n",
       " 'type': 'section',\n",
       " 'status_text': 'Open',\n",
       " 'section': '1',\n",
       " 'waiting': 0,\n",
       " 'instructor': ('An', 'Huang', 'anhuang@brandeis.edu'),\n",
       " 'coinstructors': (),\n",
       " 'code': ('MATH', '223A'),\n",
       " 'subject': 'MATH',\n",
       " 'coursenum': '223A',\n",
       " 'name': 'Lie Algebras: Representation Theory',\n",
       " 'independent_study': False,\n",
       " 'term': '1203',\n",
       " 'description': \"Theorems of Engel and Lie. Semisimple Lie algebras, Cartan's criterion. Universal enveloping algebras, PBW theorem, Serre's construction. Representation theory. Other topics as time permits. Usually offered every second year.\\nAn Huang\"}"
      ]
     },
     "execution_count": 7,
     "metadata": {},
     "output_type": "execute_result"
    }
   ],
   "source": [
    "print('notice that the instructor and code are tuples now')\n",
    "courses[1246]"
   ]
  },
  {
   "cell_type": "markdown",
   "metadata": {},
   "source": [
    "# Exploring the data set\n",
    "Now we will show how to use straight python to explore the data set and answer some interesting questions. Next week we will start learning Pandas/Numpy which are packages that make it easier to explore large dataset efficiently.\n",
    "\n",
    "Here are some questions we can try to asnwer:\n",
    "* what are all of the subjects of courses (e.g. COSI, MATH, JAPN, PHIL, ...)\n",
    "* which terms are represented?\n",
    "* how many instructors taught at Brandeis last year?\n",
    "* what were the five largest course sections?\n",
    "* what were the five largest courses (where we combine sections)?\n",
    "* which are the five largest subjects measured by number of courses offered?\n",
    "* which are the five largest courses measured by number of students taught?\n",
    "* which course had the most sections taught in 20-21?\n",
    "* who are the top five faculty in terms of number of students taught?\n",
    "* etc."
   ]
  },
  {
   "cell_type": "markdown",
   "metadata": {},
   "source": [
    "# a) How many faculty taught COSI courses last year?"
   ]
  },
  {
   "cell_type": "code",
   "execution_count": 65,
   "metadata": {},
   "outputs": [
    {
     "name": "stdout",
     "output_type": "stream",
     "text": [
      "There are 27 faculty taught COSI courses last year\n"
     ]
    }
   ],
   "source": [
    "faculty = len({c['instructor'] for c in courses if c['subject'] == 'COSI'})\n",
    "num = print(f\"There were {faculty} faculties teaching COSI courses last year.\")"
   ]
  },
  {
   "cell_type": "markdown",
   "metadata": {},
   "source": [
    "# b) what is the total number of students taking COSI courses last year?"
   ]
  },
  {
   "cell_type": "code",
   "execution_count": 71,
   "metadata": {},
   "outputs": [
    {
     "name": "stdout",
     "output_type": "stream",
     "text": [
      "There are 2223 students taking COSI courses last year\n"
     ]
    }
   ],
   "source": [
    "# {c['enrolled'] for c in courses}\n",
    "enroll = sum(c['enrolled'] for c in courses if c['subject'] == 'COSI')\n",
    "num = print(f\"There were {enroll} students taking COSI courses last year.\")"
   ]
  },
  {
   "cell_type": "markdown",
   "metadata": {},
   "source": [
    "# c) what was the median size of a COSI course last year (counting only those courses with at least 10 students)"
   ]
  },
  {
   "cell_type": "code",
   "execution_count": 97,
   "metadata": {},
   "outputs": [
    {
     "name": "stdout",
     "output_type": "stream",
     "text": [
      "The median size of a COSI course last year is 45.5 students.\n"
     ]
    }
   ],
   "source": [
    "# size = {c for c in courses if c['subject'] == 'COSI' and c['enrolled'] >=10}\n",
    "import statistics\n",
    "student_size = {c['enrolled'] for c in courses if c['subject'] == 'COSI' and c['enrolled'] >=10}\n",
    "median = statistics.median(student_size)\n",
    "num = print(f\"The median size of a COSI course last year was {median} students.\")"
   ]
  },
  {
   "cell_type": "markdown",
   "metadata": {},
   "source": [
    "# d) create a list of tuples (E,S) where S is a subject and E is the number of students enrolled in courses in that subject, sort it and print the top 10. This shows the top 10 subjects in terms of number of students taught.\n"
   ]
  },
  {
   "cell_type": "code",
   "execution_count": 146,
   "metadata": {},
   "outputs": [
    {
     "name": "stdout",
     "output_type": "stream",
     "text": [
      "[('COSI', 150), ('PSYC', 166), ('COSI', 166), ('PSYC', 170), ('HS', 175), ('CHEM', 180), ('BIOL', 181), ('CHEM', 186), ('BIOL', 186), ('HWL', 784)]\n"
     ]
    }
   ],
   "source": [
    "# temp = set()\n",
    "# for c in courses:\n",
    "#     temp.add((c['subject'], c['enrolled']))\n",
    "    \n",
    "temp = []\n",
    "all_course_size = {(c['subject'], int(c['enrolled'])) for c in courses}\n",
    "for i in range(len(all_course_size)):\n",
    "    temp.append(all_course_size.pop())\n",
    "    \n",
    "# print(temp)\n",
    "temp.sort(key=lambda x:x[1])\n",
    "print(temp[-10:])"
   ]
  },
  {
   "cell_type": "markdown",
   "metadata": {},
   "source": [
    "# e) do the same as in (d) but print the top 10 subjects in terms of number of courses offered\n"
   ]
  },
  {
   "cell_type": "code",
   "execution_count": null,
   "metadata": {},
   "outputs": [],
   "source": []
  },
  {
   "cell_type": "markdown",
   "metadata": {},
   "source": [
    "# f) do the same as (d) but print the top 10 subjects in terms of number of faculty teaching courses in that subject\n"
   ]
  },
  {
   "cell_type": "code",
   "execution_count": null,
   "metadata": {},
   "outputs": [],
   "source": []
  },
  {
   "cell_type": "markdown",
   "metadata": {},
   "source": [
    "# g) list the top 20 faculty in terms of number of students they taught\n"
   ]
  },
  {
   "cell_type": "code",
   "execution_count": 32,
   "metadata": {},
   "outputs": [
    {
     "data": {
      "text/plain": [
       "['Leah Berkenwald',\n",
       " 'Kene Nathan Piasta',\n",
       " 'Milos Dolnik',\n",
       " 'Stephanie Murray',\n",
       " 'Timothy J Hickey',\n",
       " 'Rachel V.E. Woodruff',\n",
       " 'Daniel Breen',\n",
       " 'Bryan Ingoglia',\n",
       " 'Melissa Kosinski-Collins',\n",
       " 'Claudia Novack',\n",
       " 'Antonella DiLillo',\n",
       " 'Jon Chilingerian',\n",
       " 'Ahmad Namini',\n",
       " 'Brenda Anderson',\n",
       " 'Maria de Boef Miara',\n",
       " 'Colleen Hitchcock',\n",
       " 'Scott A. Redenius',\n",
       " 'Seth Fraden',\n",
       " 'Iraklis Tsekourakis',\n",
       " 'Teresa Vann Mitchell']"
      ]
     },
     "execution_count": 32,
     "metadata": {},
     "output_type": "execute_result"
    }
   ],
   "source": [
    "instructors = {}\n",
    "for course in courses:\n",
    "    instructor = course['instructor'][0] + ' ' + course['instructor'][1]\n",
    "    if instructor not in instructors:\n",
    "        instructors[instructor] = []\n",
    "    else:\n",
    "        instructors[instructor].append(course['enrolled'])\n",
    "\n",
    "for instructor in instructors:\n",
    "    instructors[instructor] = sum(instructors[instructor])\n",
    "    \n",
    "sort_instructors = sorted(instructors.items(), key=lambda x: x[1], reverse=True)\n",
    "[i[0] for i in sort_instructors[:20]]"
   ]
  },
  {
   "cell_type": "markdown",
   "metadata": {},
   "source": [
    "# h) list the top 20 courses in terms of number of students taking that course (where you combine different sections and semesters, i.e. just use the subject and course number)\n"
   ]
  },
  {
   "cell_type": "code",
   "execution_count": 44,
   "metadata": {},
   "outputs": [
    {
     "data": {
      "text/plain": [
       "['HWL 1 Navigating Health and Safety',\n",
       " 'HWL 1-PRE Introduction to Navigating Health and Safety',\n",
       " 'BIOL 14A Genetics and Genomics',\n",
       " 'MATH 10A Techniques of Calculus (a)',\n",
       " 'BIOL 18B General Biology Laboratory',\n",
       " 'BIOL 18A General Biology Laboratory',\n",
       " 'COSI 10A Introduction to Problem Solving in Python',\n",
       " 'CHEM 29A Organic Chemistry Laboratory I',\n",
       " 'COSI 12B Advanced Programming Techniques in Java',\n",
       " 'BUS 6A Financial Accounting',\n",
       " 'CHEM 29B Organic Chemistry Laboratory II',\n",
       " 'PSYC 10A Introduction to Psychology',\n",
       " 'BUS 10A Business Fundamentals',\n",
       " 'MATH 15A Applied Linear Algebra',\n",
       " 'EL 35A Navigating STEM',\n",
       " 'ECON 80A Microeconomic Theory',\n",
       " 'ECON 10A Introduction to Microeconomics',\n",
       " 'CHEM 11B General Chemistry II',\n",
       " 'CHEM 18B General Chemistry Laboratory II',\n",
       " 'CHEM 18A General Chemistry Laboratory I']"
      ]
     },
     "execution_count": 44,
     "metadata": {},
     "output_type": "execute_result"
    }
   ],
   "source": [
    "course_enrollments = {}\n",
    "for course in courses:\n",
    "    course_name = course['subject'] + ' ' + course['coursenum'] + ' ' + course['name']\n",
    "    if course_name not in course_enrollments:\n",
    "        course_enrollments[course_name] = []\n",
    "    else:\n",
    "        course_enrollments[course_name].append(course['enrolled'])\n",
    "\n",
    "for course in course_enrollments:\n",
    "    course_enrollments[course] = sum(course_enrollments[course])\n",
    "    \n",
    "sort_course_enrollments = sorted(course_enrollments.items(), key=lambda x: x[1], reverse=True)\n",
    "[i[0] for i in sort_course_enrollments[:20]]"
   ]
  },
  {
   "cell_type": "markdown",
   "metadata": {},
   "source": [
    "# i) Create your own interesting question (each team member creates their own) and use Python to answer that question."
   ]
  },
  {
   "cell_type": "markdown",
   "metadata": {},
   "source": [
    "Alicia Sheng"
   ]
  },
  {
   "cell_type": "markdown",
   "metadata": {},
   "source": [
    "Question: What are the top 20 courses with the highest enrollment rate (enrolled / limit)?"
   ]
  },
  {
   "cell_type": "code",
   "execution_count": 67,
   "metadata": {},
   "outputs": [
    {
     "data": {
      "text/plain": [
       "['FIN 217F Corporate Financial Modeling',\n",
       " 'BUS 6A Financial Accounting',\n",
       " 'NBIO 140B Principles of Neuroscience',\n",
       " 'CAST 125A Confronting Gender-Based Violence',\n",
       " 'AAAS/WGS 152B Beyoncé and Beyond: The Politics of Black Popular Music',\n",
       " 'BIOL 159A Project Laboratory in Microbiology',\n",
       " 'BIOL 101A Molecular Biotechnology',\n",
       " 'HWL 42 The Art of Resilience: Strategies to Thrive in a Stressful World',\n",
       " 'BUS 256A Marketing Analytics',\n",
       " 'CHEM 69A Advanced Laboratory: Materials Chemistry',\n",
       " 'HWL 48 Cardio Workout',\n",
       " 'FIN 232A Mergers and Acquisitions Analysis',\n",
       " 'BUS 276A Business Dynamics: Managing in a Complex World',\n",
       " 'HISP 155A Wall Power: Muralism and Resistance in (Latin) American Art',\n",
       " 'HS 251B Managerial Accounting',\n",
       " 'CHEM 69A Advanced Laboratory: Materials Chemistry',\n",
       " 'HISP 111B Introduction to Latin American Literature and Culture',\n",
       " 'FA 197A Studies in Asian Art',\n",
       " 'SOC 46B Geographies of Inequality: Exploring Power and Space in the United States',\n",
       " 'CHEM 29A Organic Chemistry Laboratory I']"
      ]
     },
     "execution_count": 67,
     "metadata": {},
     "output_type": "execute_result"
    }
   ],
   "source": [
    "enrollment_rate = [(course['subject'] + ' ' + course['coursenum'] + ' ' + course['name'], course['enrolled'] / course['limit']) for course in courses if course['limit'] != None and course['limit'] != 0]\n",
    "enrollment_rate.sort(key=lambda x: x[1], reverse=True)\n",
    "[i[0] for i in enrollment_rate[:20]]"
   ]
  },
  {
   "cell_type": "markdown",
   "metadata": {},
   "source": [
    "Francisco Liu"
   ]
  },
  {
   "cell_type": "markdown",
   "metadata": {},
   "source": [
    "Question: "
   ]
  },
  {
   "cell_type": "code",
   "execution_count": null,
   "metadata": {},
   "outputs": [],
   "source": []
  },
  {
   "cell_type": "markdown",
   "metadata": {},
   "source": [
    "Gordon Dou"
   ]
  },
  {
   "cell_type": "markdown",
   "metadata": {},
   "source": [
    "Question: "
   ]
  },
  {
   "cell_type": "code",
   "execution_count": null,
   "metadata": {},
   "outputs": [],
   "source": []
  },
  {
   "cell_type": "markdown",
   "metadata": {},
   "source": [
    "Michael Li"
   ]
  },
  {
   "cell_type": "markdown",
   "metadata": {},
   "source": [
    "Question: "
   ]
  },
  {
   "cell_type": "code",
   "execution_count": null,
   "metadata": {},
   "outputs": [],
   "source": []
  }
 ],
 "metadata": {
  "kernelspec": {
   "display_name": "Python 3",
   "language": "python",
   "name": "python3"
  },
  "language_info": {
   "codemirror_mode": {
    "name": "ipython",
    "version": 3
   },
   "file_extension": ".py",
   "mimetype": "text/x-python",
   "name": "python",
   "nbconvert_exporter": "python",
   "pygments_lexer": "ipython3",
   "version": "3.8.8"
  }
 },
 "nbformat": 4,
 "nbformat_minor": 4
}
