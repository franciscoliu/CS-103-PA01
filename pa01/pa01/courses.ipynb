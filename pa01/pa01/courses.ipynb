{
 "cells": [
  {
   "cell_type": "markdown",
   "metadata": {},
   "source": [
    "# Courses Demo\n",
    "This Jupyter notebook is for exploring the data set courses20-21.json\n",
    "which consists of all Brandeis courses in the 20-21 academic year (Fall20, Spr21, Sum21) \n",
    "which had at least 1 student enrolled.\n",
    "\n",
    "First we need to read the json file into a list of Python dictionaries"
   ]
  },
  {
   "cell_type": "code",
   "execution_count": null,
   "metadata": {},
   "outputs": [],
   "source": [
    "import json"
   ]
  },
  {
   "cell_type": "code",
   "execution_count": null,
   "metadata": {},
   "outputs": [],
   "source": [
    "with open(\"courses20-21.json\",\"r\",encoding='utf-8') as jsonfile:\n",
    "    courses = json.load(jsonfile)"
   ]
  },
  {
   "cell_type": "markdown",
   "metadata": {},
   "source": [
    "## Structure of a course\n",
    "Next we look at the fields of each course dictionary and their values"
   ]
  },
  {
   "cell_type": "code",
   "execution_count": null,
   "metadata": {},
   "outputs": [],
   "source": [
    "print('there are',len(courses),'courses in the dataset')\n",
    "print('here is the data for course 1246')\n",
    "courses[1246]"
   ]
  },
  {
   "cell_type": "markdown",
   "metadata": {},
   "source": [
    "## Cleaning the data\n",
    "If we want to sort courses by instructor or by code, we need to replace the lists with tuples (which are immutable lists)"
   ]
  },
  {
   "cell_type": "code",
   "execution_count": null,
   "metadata": {},
   "outputs": [],
   "source": [
    "for course in courses:\n",
    "        course['instructor'] = tuple(course['instructor'])\n",
    "        course['coinstructors'] = tuple([tuple(f) for f in course['coinstructors']])\n",
    "        course['code']= tuple(course['code'])"
   ]
  },
  {
   "cell_type": "code",
   "execution_count": null,
   "metadata": {},
   "outputs": [],
   "source": [
    "print('notice that the instructor and code are tuples now')\n",
    "courses[1246]"
   ]
  },
  {
   "cell_type": "markdown",
   "metadata": {},
   "source": [
    "# Exploring the data set\n",
    "Now we will show how to use straight python to explore the data set and answer some interesting questions. Next week we will start learning Pandas/Numpy which are packages that make it easier to explore large dataset efficiently.\n",
    "\n",
    "Here are some questions we can try to asnwer:\n",
    "* what are all of the subjects of courses (e.g. COSI, MATH, JAPN, PHIL, ...)\n",
    "* which terms are represented?\n",
    "* how many instructors taught at Brandeis last year?\n",
    "* what were the five largest course sections?\n",
    "* what were the five largest courses (where we combine sections)?\n",
    "* which are the five largest subjects measured by number of courses offered?\n",
    "* which are the five largest courses measured by number of students taught?\n",
    "* which course had the most sections taught in 20-21?\n",
    "* who are the top five faculty in terms of number of students taught?\n",
    "* etc."
   ]
  },
  {
   "cell_type": "markdown",
   "metadata": {},
   "source": [
    "# a) How many faculty taught COSI courses last year?"
   ]
  },
  {
   "cell_type": "code",
   "execution_count": null,
   "metadata": {},
   "outputs": [],
   "source": [
    "faculty = len({c['instructor'] for c in courses if c['subject'] == 'COSI'})\n",
    "print(f\"There were {faculty} faculties teaching COSI courses last year.\")"
   ]
  },
  {
   "cell_type": "markdown",
   "metadata": {},
   "source": [
    "# b) what is the total number of students taking COSI courses last year?"
   ]
  },
  {
   "cell_type": "code",
   "execution_count": null,
   "metadata": {},
   "outputs": [],
   "source": [
    "# {c['enrolled'] for c in courses}\n",
    "enroll = sum(c['enrolled'] for c in courses if c['subject'] == 'COSI')\n",
    "print(f\"There were {enroll} students taking COSI courses last year.\")"
   ]
  },
  {
   "cell_type": "markdown",
   "metadata": {},
   "source": [
    "# c) what was the median size of a COSI course last year (counting only those courses with at least 10 students)"
   ]
  },
  {
   "cell_type": "code",
   "execution_count": null,
   "metadata": {},
   "outputs": [],
   "source": [
    "# size = {c for c in courses if c['subject'] == 'COSI' and c['enrolled'] >=10}\n",
    "import statistics\n",
    "student_size = [c['enrolled'] for c in courses if c['subject'] == 'COSI' and c['enrolled'] >= 10]\n",
    "median = statistics.median(student_size)\n",
    "print(f\"The median size of a COSI course last year is {median} students.\")"
   ]
  },
  {
   "cell_type": "markdown",
   "metadata": {},
   "source": [
    "# d) create a list of tuples (E,S) where S is a subject and E is the number of students enrolled in courses in that subject, sort it and print the top 10. This shows the top 10 subjects in terms of number of students taught.\n"
   ]
  },
  {
   "cell_type": "code",
   "execution_count": null,
   "metadata": {},
   "outputs": [],
   "source": [
    "course_num = dict.fromkeys(set(c['subject'] for c in courses), 0)\n",
    "for c in courses:\n",
    "    course_num[c['subject']] += c['enrolled']\n",
    "\n",
    "result = sorted(course_num.items(), key=lambda item: item[1], reverse=True)\n",
    "print([(i[1], i[0]) for i in result[:10]])"
   ]
  },
  {
   "cell_type": "markdown",
   "metadata": {},
   "source": [
    "# e) do the same as in (d) but print the top 10 subjects in terms of number of courses offered\n"
   ]
  },
  {
   "cell_type": "code",
   "execution_count": null,
   "metadata": {},
   "outputs": [],
   "source": [
    "from collections import Counter\n",
    "subject_count = Counter([course['subject'] for course in courses])\n",
    "result = sorted(subject_count.items(), key=lambda item: item[1], reverse=True)\n",
    "print([i[0] for i in result[:10]])"
   ]
  },
  {
   "cell_type": "markdown",
   "metadata": {},
   "source": [
    "# f) do the same as (d) but print the top 10 subjects in terms of number of faculty teaching courses in that subject\n"
   ]
  },
  {
   "cell_type": "code",
   "execution_count": null,
   "metadata": {},
   "outputs": [],
   "source": [
    "course_num = dict()\n",
    "for c in courses:\n",
    "    if c['subject'] not in course_num:\n",
    "        course_num[c['subject']] = set()\n",
    "    course_num[c['subject']].add(c['instructor'][0] + ' ' + c['instructor'][1])\n",
    "\n",
    "result = sorted(course_num.items(), key=lambda item: len(item[1]), reverse=True)\n",
    "print([s[0] for s in result[:10]])"
   ]
  },
  {
   "cell_type": "markdown",
   "metadata": {},
   "source": [
    "# g) list the top 20 faculty in terms of number of students they taught\n"
   ]
  },
  {
   "cell_type": "code",
   "execution_count": null,
   "metadata": {},
   "outputs": [],
   "source": [
    "instructors = {}\n",
    "for course in courses:\n",
    "    instructor = course['instructor'][0] + ' ' + course['instructor'][1]\n",
    "    if instructor not in instructors:\n",
    "        instructors[instructor] = []\n",
    "    else:\n",
    "        instructors[instructor].append(course['enrolled'])\n",
    "\n",
    "for instructor in instructors:\n",
    "    instructors[instructor] = sum(instructors[instructor])\n",
    "    \n",
    "sort_instructors = sorted(instructors.items(), key=lambda x: x[1], reverse=True)\n",
    "[i[0] for i in sort_instructors[:20]]"
   ]
  },
  {
   "cell_type": "markdown",
   "metadata": {},
   "source": [
    "# h) list the top 20 courses in terms of number of students taking that course (where you combine different sections and semesters, i.e. just use the subject and course number)\n"
   ]
  },
  {
   "cell_type": "code",
   "execution_count": null,
   "metadata": {},
   "outputs": [],
   "source": [
    "course_enrollments = {}\n",
    "for course in courses:\n",
    "    course_name = course['subject'] + ' ' + course['coursenum'] + ' ' + course['name']\n",
    "    if course_name not in course_enrollments:\n",
    "        course_enrollments[course_name] = []\n",
    "    else:\n",
    "        course_enrollments[course_name].append(course['enrolled'])\n",
    "\n",
    "for course in course_enrollments:\n",
    "    course_enrollments[course] = sum(course_enrollments[course])\n",
    "    \n",
    "sort_course_enrollments = sorted(course_enrollments.items(), key=lambda x: x[1], reverse=True)\n",
    "[i[0] for i in sort_course_enrollments[:20]]"
   ]
  },
  {
   "cell_type": "markdown",
   "metadata": {},
   "source": [
    "# i) Create your own interesting question (each team member creates their own) and use Python to answer that question."
   ]
  },
  {
   "cell_type": "markdown",
   "metadata": {},
   "source": [
    "Alicia Sheng"
   ]
  },
  {
   "cell_type": "markdown",
   "metadata": {},
   "source": [
    "New change"
   ]
  },
  {
   "cell_type": "markdown",
   "metadata": {},
   "source": [
    "Question: What are the top 20 courses with the highest enrollment rate (enrolled / limit)?"
   ]
  },
  {
   "cell_type": "code",
   "execution_count": null,
   "metadata": {},
   "outputs": [],
   "source": [
    "enrollment_rate = [(course['subject'] + ' ' + course['coursenum'] + ' ' + course['name'], course['enrolled'] / course['limit']) for course in courses if course['limit'] != None and course['limit'] != 0]\n",
    "enrollment_rate.sort(key=lambda x: x[1], reverse=True)\n",
    "[i[0] for i in enrollment_rate[:20]]"
   ]
  },
  {
   "cell_type": "markdown",
   "metadata": {},
   "source": [
    "Francisco Liu"
   ]
  },
  {
   "cell_type": "markdown",
   "metadata": {},
   "source": [
    "Question: Among all independent study courses, what are the top 5 courses that have the most enrolled students? Display them in a format of a list of tuple (course_name, enrolled student). "
   ]
  },
  {
   "cell_type": "code",
   "execution_count": null,
   "metadata": {},
   "outputs": [],
   "source": [
    "all_independent_study = dict()\n",
    "\n",
    "for course in courses:\n",
    "    if course['independent_study'] == True and course['enrolled']!=0:\n",
    "        all_independent_study[course['code'][0] + \" \" + course['code'][1]] = course['enrolled']\n",
    "\n",
    "result = sorted(all_independent_study.items(), key=lambda item: item[1], reverse=True)\n",
    "print([(i[0], i[1]) for i in result[:5]])\n"
   ]
  },
  {
   "cell_type": "markdown",
   "metadata": {},
   "source": [
    "Gordon Dou"
   ]
  },
  {
   "cell_type": "markdown",
   "metadata": {},
   "source": [
    "Question: What are the top 10 classes that have more enrollments than limits?"
   ]
  },
  {
   "cell_type": "code",
   "execution_count": null,
   "metadata": {},
   "outputs": [],
   "source": [
    "enrollment_exceed = [course for course in courses if course['enrolled'] is not None and course['limit'] is not None and int(course['enrolled']) > int(course['limit'])]\n",
    "enrollment_exceed.sort(key=lambda x: x['enrolled'] - x['limit'], reverse=True)\n",
    "[i['name'] for i in enrollment_exceed[:10]]"
   ]
  },
  {
   "cell_type": "markdown",
   "metadata": {},
   "source": [
    "Michael Li"
   ]
  },
  {
   "cell_type": "markdown",
   "metadata": {},
   "source": [
    "Question: What is the the average size of a COSI course"
   ]
  },
  {
   "cell_type": "code",
   "execution_count": null,
   "metadata": {},
   "outputs": [],
   "source": [
    "import statistics\n",
    "student_size = {c['enrolled'] for c in courses if c['subject'] == 'COSI' and c['enrolled'] >=10}\n",
    "mean = int(statistics.mean(student_size))\n",
    "num = print(f\"The average size of a COSI course last year was {mean} students.\")"
   ]
  }
 ],
 "metadata": {
  "kernelspec": {
   "display_name": "Python 3 (ipykernel)",
   "language": "python",
   "name": "python3"
  },
  "language_info": {
   "codemirror_mode": {
    "name": "ipython",
    "version": 3
   },
   "file_extension": ".py",
   "mimetype": "text/x-python",
   "name": "python",
   "nbconvert_exporter": "python",
   "pygments_lexer": "ipython3",
   "version": "3.7.4"
  }
 },
 "nbformat": 4,
 "nbformat_minor": 4
}
