{
 "cells": [
  {
   "cell_type": "markdown",
   "metadata": {},
   "source": [
    "# Courses Demo\n",
    "This Jupyter notebook is for exploring the data set courses20-21.json\n",
    "which consists of all Brandeis courses in the 20-21 academic year (Fall20, Spr21, Sum21) \n",
    "which had at least 1 student enrolled.\n",
    "\n",
    "First we need to read the json file into a list of Python dictionaries"
   ]
  },
  {
   "cell_type": "code",
   "execution_count": 3,
   "metadata": {},
   "outputs": [],
   "source": [
    "import json"
   ]
  },
  {
   "cell_type": "code",
   "execution_count": 4,
   "metadata": {},
   "outputs": [],
   "source": [
    "with open(\"courses20-21.json\",\"r\",encoding='utf-8') as jsonfile:\n",
    "    courses = json.load(jsonfile)"
   ]
  },
  {
   "cell_type": "markdown",
   "metadata": {},
   "source": [
    "## Structure of a course\n",
    "Next we look at the fields of each course dictionary and their values"
   ]
  },
  {
   "cell_type": "code",
   "execution_count": 5,
   "metadata": {},
   "outputs": [
    {
     "name": "stdout",
     "output_type": "stream",
     "text": [
      "there are 7813 courses in the dataset\n",
      "here is the data for course 1246\n"
     ]
    },
    {
     "data": {
      "text/plain": [
       "{'limit': 28,\n",
       " 'times': [{'start': 1080, 'end': 1170, 'days': ['w', 'm']}],\n",
       " 'enrolled': 4,\n",
       " 'details': 'Instruction for this course will be offered remotely. Meeting times for this course are listed in the schedule of classes (in ET).',\n",
       " 'type': 'section',\n",
       " 'status_text': 'Open',\n",
       " 'section': '1',\n",
       " 'waiting': 0,\n",
       " 'instructor': ['An', 'Huang', 'anhuang@brandeis.edu'],\n",
       " 'coinstructors': [],\n",
       " 'code': ['MATH', '223A'],\n",
       " 'subject': 'MATH',\n",
       " 'coursenum': '223A',\n",
       " 'name': 'Lie Algebras: Representation Theory',\n",
       " 'independent_study': False,\n",
       " 'term': '1203',\n",
       " 'description': \"Theorems of Engel and Lie. Semisimple Lie algebras, Cartan's criterion. Universal enveloping algebras, PBW theorem, Serre's construction. Representation theory. Other topics as time permits. Usually offered every second year.\\nAn Huang\"}"
      ]
     },
     "execution_count": 5,
     "metadata": {},
     "output_type": "execute_result"
    }
   ],
   "source": [
    "print('there are',len(courses),'courses in the dataset')\n",
    "print('here is the data for course 1246')\n",
    "courses[1246]"
   ]
  },
  {
   "cell_type": "markdown",
   "metadata": {},
   "source": [
    "## Cleaning the data\n",
    "If we want to sort courses by instructor or by code, we need to replace the lists with tuples (which are immutable lists)"
   ]
  },
  {
   "cell_type": "code",
   "execution_count": 6,
   "metadata": {},
   "outputs": [],
   "source": [
    "for course in courses:\n",
    "        course['instructor'] = tuple(course['instructor'])\n",
    "        course['coinstructors'] = tuple([tuple(f) for f in course['coinstructors']])\n",
    "        course['code']= tuple(course['code'])"
   ]
  },
  {
   "cell_type": "code",
   "execution_count": 7,
   "metadata": {},
   "outputs": [
    {
     "name": "stdout",
     "output_type": "stream",
     "text": [
      "notice that the instructor and code are tuples now\n"
     ]
    },
    {
     "data": {
      "text/plain": [
       "{'limit': 28,\n",
       " 'times': [{'start': 1080, 'end': 1170, 'days': ['w', 'm']}],\n",
       " 'enrolled': 4,\n",
       " 'details': 'Instruction for this course will be offered remotely. Meeting times for this course are listed in the schedule of classes (in ET).',\n",
       " 'type': 'section',\n",
       " 'status_text': 'Open',\n",
       " 'section': '1',\n",
       " 'waiting': 0,\n",
       " 'instructor': ('An', 'Huang', 'anhuang@brandeis.edu'),\n",
       " 'coinstructors': (),\n",
       " 'code': ('MATH', '223A'),\n",
       " 'subject': 'MATH',\n",
       " 'coursenum': '223A',\n",
       " 'name': 'Lie Algebras: Representation Theory',\n",
       " 'independent_study': False,\n",
       " 'term': '1203',\n",
       " 'description': \"Theorems of Engel and Lie. Semisimple Lie algebras, Cartan's criterion. Universal enveloping algebras, PBW theorem, Serre's construction. Representation theory. Other topics as time permits. Usually offered every second year.\\nAn Huang\"}"
      ]
     },
     "execution_count": 7,
     "metadata": {},
     "output_type": "execute_result"
    }
   ],
   "source": [
    "print('notice that the instructor and code are tuples now')\n",
    "courses[1246]"
   ]
  },
  {
   "cell_type": "markdown",
   "metadata": {},
   "source": [
    "# Exploring the data set\n",
    "Now we will show how to use straight python to explore the data set and answer some interesting questions. Next week we will start learning Pandas/Numpy which are packages that make it easier to explore large dataset efficiently.\n",
    "\n",
    "Here are some questions we can try to asnwer:\n",
    "* what are all of the subjects of courses (e.g. COSI, MATH, JAPN, PHIL, ...)\n",
    "* which terms are represented?\n",
    "* how many instructors taught at Brandeis last year?\n",
    "* what were the five largest course sections?\n",
    "* what were the five largest courses (where we combine sections)?\n",
    "* which are the five largest subjects measured by number of courses offered?\n",
    "* which are the five largest courses measured by number of students taught?\n",
    "* which course had the most sections taught in 20-21?\n",
    "* who are the top five faculty in terms of number of students taught?\n",
    "* etc."
   ]
  },
  {
   "cell_type": "markdown",
   "metadata": {},
   "source": [
    "# a) How many faculty taught COSI courses last year?"
   ]
  },
  {
   "cell_type": "code",
   "execution_count": 65,
   "metadata": {},
   "outputs": [
    {
     "name": "stdout",
     "output_type": "stream",
     "text": [
      "There are 27 faculty taught COSI courses last year\n"
     ]
    }
   ],
   "source": [
    "faculty = len({c['instructor'] for c in courses if c['subject'] == 'COSI'})\n",
    "num = print(f\"There are {faculty} faculty taught COSI courses last year\")"
   ]
  },
  {
   "cell_type": "markdown",
   "metadata": {},
   "source": [
    "# b) what is the total number of students taking COSI courses last year?"
   ]
  },
  {
   "cell_type": "code",
   "execution_count": 71,
   "metadata": {},
   "outputs": [
    {
     "name": "stdout",
     "output_type": "stream",
     "text": [
      "There are 2223 students taking COSI courses last year\n"
     ]
    }
   ],
   "source": [
    "# {c['enrolled'] for c in courses}\n",
    "enroll = sum(c['enrolled'] for c in courses if c['subject'] == 'COSI')\n",
    "num = print(f\"There are {enroll} students taking COSI courses last year\")"
   ]
  },
  {
   "cell_type": "markdown",
   "metadata": {},
   "source": [
    "# c) what was the median size of a COSI course last year (counting only those courses with at least 10 students)"
   ]
  },
  {
   "cell_type": "code",
   "execution_count": 97,
   "metadata": {},
   "outputs": [
    {
     "name": "stdout",
     "output_type": "stream",
     "text": [
      "The median size of a COSI course last year is 45.5 students.\n"
     ]
    }
   ],
   "source": [
    "# size = {c for c in courses if c['subject'] == 'COSI' and c['enrolled'] >=10}\n",
    "import statistics\n",
    "student_size = {c['enrolled'] for c in courses if c['subject'] == 'COSI' and c['enrolled'] >=10}\n",
    "median = statistics.median(student_size)\n",
    "num = print(f\"The median size of a COSI course last year is {median} students.\")\n"
   ]
  },
  {
   "cell_type": "markdown",
   "metadata": {},
   "source": [
    "# d) create a list of tuples (E,S) where S is a subject and E is the number of students enrolled in courses in that subject, sort it and print the top 10. This shows the top 10 subjects in terms of number of students taught.\n"
   ]
  },
  {
   "cell_type": "code",
   "execution_count": 108,
   "metadata": {},
   "outputs": [
    {
     "name": "stdout",
     "output_type": "stream",
     "text": [
      "{('HIST', 51), ('CHIN', 28), ('HIST/SOC', 15), ('CAST', 20), ('THA', 0), ('ECON', 3), ('FREN', 13), ('LGLS', 15), ('BIOL', 181), ('ECON', 39), ('PHYS', 20), ('MATH', 20), ('HIST', 28), ('WGS', 12), ('NEJS', 9), ('FILM', 0), ('THA', 13), ('RSEG', 4), ('ECON', 16), ('CA', 20), ('HIST', 5), ('PSYC', 10), ('ARBC', 4), ('MUS', 36), ('HWL', 47), ('AAAS', 8), ('COSI', 39), ('CHIN', 18), ('RDMD', 18), ('ENG', 39), ('PAX', 22), ('FA', 29), ('SOC', 75), ('BUS', 52), ('HWL', 24), ('PHYS', 10), ('HIST', 18), ('WGS', 2), ('BIOL', 27), ('LING', 24), ('FA', 6), ('ENG', 52), ('THA', 3), ('ECON', 6), ('HSSP', 23), ('GRK', 8), ('NBIO', 61), ('RIAS', 3), ('PSYC', 0), ('HRNS', 3), ('BIOL', 4), ('PHYS', 23), ('WGS', 15), ('BIOL', 40), ('ENG', 29), ('EL', 38), ('FA', 19), ('ANTH', 31), ('RUCD', 20), ('COSI', 150), ('RSEG', 7), ('CHEM', 51), ('BUS/ECON', 27), ('HWL', 14), ('PHYS', 0), ('COSI', 6), ('JOUR', 25), ('HS', 53), ('HRNS', 16), ('ECON', 104), ('AMST', 5), ('BIOL', 17), ('ENG', 6), ('EL', 15), ('ANTH', 8), ('RPJM', 12), ('BUS', 19), ('NPSY', 18), ('FIN', 21), ('CHEM', 28), ('EAS', 1), ('HS', 30), ('YDSH', 5), ('HWL', 27), ('PHIL', 54), ('PHYS', 13), ('ENG', 19), ('RHIN', 10), ('FA', 9), ('ANTH', 21), ('RUCD', 10), ('BUS', 32), ('HSSP', 26), ('FIN', 34), ('HWL', 4), ('ED', 36), ('HS', 43), ('JOUR', 15), ('BIOL', 7), ('POL', 38), ('PSYC', 88), ('EL', 5), ('BUS', 9), ('CHEM', 18), ('FIN', 11), ('RMGT', 9), ('BCBP', 1), ('HS', 20), ('MUS', 6), ('ECON', 71), ('MATH', 52), ('BIOT', 5), ('ENG', 9), ('COSI', 94), ('BIOL', 105), ('ANTH', 11), ('LGLS', 24), ('ITAL', 8), ('ED', 26), ('MATH', 29), ('LGLS', 145), ('POL', 28), ('HBRW', 9), ('MATH', 65), ('RBIF', 12), ('CLAS', 5), ('HISP', 25), ('AAPI', 1), ('SOC', 22), ('FIN', 1), ('CHEM', 8), ('AAAS/WGS', 35), ('HS', 10), ('POL', 5), ('MATH', 42), ('RUS', 12), ('GER', 18), ('COSI', 84), ('FREN', 12), ('LGLS', 14), ('BISC', 7), ('NEUR', 0), ('KOR', 11), ('PHIL', 11), ('BCBP', 4), ('JAPN', 10), ('MATH', 19), ('IGS', 29), ('POL', 18), ('COSI', 61), ('NEJS', 8), ('HISP', 15), ('THA', 12), ('ECON', 15), ('ITAL', 11), ('RSAN', 8), ('KOR', 24), ('HS', 0), ('MATH', 32), ('CHIN', 17), ('RDMD', 17), ('HBRW', 12), ('HISP', 28), ('PSYC', 166), ('KOR', 1), ('ECON', 28), ('PHIL', 1), ('ED', 6), ('JAPN', 0), ('MATH', 9), ('PSYC', 22), ('POL', 8), ('WGS', 37), ('HISP', 5), ('BIPH', 1), ('RIDT', 10), ('THA', 2), ('ECON', 5), ('FREN', 15), ('GRK', 7), ('LING', 0), ('WGS', 14), ('CLAS/ENG', 18), ('NEJS', 11), ('FILM', 2), ('FA', 18), ('SOC', 64), ('THA', 15), ('RSEG', 6), ('ECON', 18), ('FIN', 43), ('HIST', 7), ('HS', 52), ('LING', 13), ('RBOT', 13), ('BIOL', 52), ('FILM', 15), ('ANTH', 43), ('RPJM', 11), ('YDSH', 4), ('HWL', 26), ('HIST', 20), ('PHYS', 12), ('COMH', 0), ('COSI', 18), ('AMST', 17), ('BIOL', 29), ('ENG', 18), ('PAX', 1), ('FA', 8), ('AAPI/WGS', 51), ('RUCD', 9), ('ECON', 8), ('HSSP', 25), ('FIN', 33), ('GECS', 10), ('PSYC', 2), ('ENVS', 6), ('HS', 42), ('MUS', 28), ('BIOL', 6), ('AAAS', 0), ('ECS', 7), ('PHYS', 25), ('BIOL', 42), ('ANTH', 33), ('FIN', 10), ('MUS', 5), ('RECS', 5), ('HSSP', 38), ('CHEM', 53), ('HWL', 16), ('PHYS', 2), ('ENVS', 19), ('COSI', 8), ('BIOL', 19), ('ENG', 8), ('ANTH', 10), ('RPJM', 14), ('BUS', 21), ('NPSY', 20), ('FIN', 23), ('GRK', 0), ('HS', 32), ('ECON', 83), ('PSYC', 77), ('RBIF', 11), ('CLAS', 4), ('SOC', 21), ('ENG', 21), ('CLAS', 40), ('ANTH', 23), ('FIN', 0), ('RUCD', 12), ('QBIO', 15), ('NBIO', 30), ('HS', 9), ('BUS', 34), ('ECON', 60), ('CHEM', 43), ('LGLS', 72), ('PHIL', 33), ('HS', 45), ('JOUR', 17), ('BIOL', 9), ('EL', 7), ('ANTH', 0), ('BISC', 6), ('BUS', 11), ('HSSP', 5), ('FIN', 13), ('BCBP', 3), ('JAPN', 9), ('HS', 22), ('MUS', 8), ('IGS', 28), ('IMES', 13), ('POL', 17), ('RBIF', 1), ('COSI', 96), ('ITAL', 10), ('RSAN', 7), ('BUS', 24), ('CHEM', 33), ('JOUR', 7), ('RUS', 1), ('POL', 30), ('HBRW', 11), ('GER', 7), ('CAST', 44), ('KOR', 0), ('THA', 24), ('BUS', 1), ('CHEM', 10), ('PHIL', 0), ('ED', 5), ('HS', 12), ('POL', 7), ('CHIN', 29), ('SOC', 1), ('RIDT', 9), ('UWS', 2), ('FREN', 14), ('ITAL', 0), ('NEUR', 2), ('THA', 37), ('BCHM', 0), ('ED', 18), ('JAPN', 12), ('POL', 20), ('NEJS', 10), ('HISP', 17), ('UWS', 15), ('THA', 14), ('ECON', 17), ('CHEM', 0), ('RSAN', 10), ('PSYC', 11), ('AAS/AAPI', 13), ('ARBC', 5), ('HOID', 0), ('ANTH', 101), ('LING', 12), ('RBOT', 12), ('CHIN', 19), ('RUS', 4), ('AAAS', 45), ('RDFT', 2), ('NEJS', 23), ('FA', 30), ('THA', 27), ('ECON', 30), ('PHIL', 3), ('ED', 8), ('PSYC', 24), ('HIST', 19), ('MATH', 11), ('ENVS', 28), ('AMST', 16), ('AAAS', 22), ('PAX', 0), ('NEJS', 0), ('HISP', 7), ('THA', 4), ('ECON', 7), ('RIAS', 4), ('PSYC', 1), ('ESL', 5), ('HWL', 38), ('RBOT', 2), ('PHYS', 24), ('COSI', 30), ('CHIN', 9), ('WGS', 16), ('RDMD', 9), ('CAST', 1), ('LALS', 25), ('ECON', 20), ('RECS', 4), ('FIN', 45), ('HWL', 15), ('PHYS', 1), ('MATH', 1), ('BCHM', 65), ('BIOL', 18), ('LING', 15), ('PHYS', 37), ('COSI', 43), ('COML', 0), ('HS', 175), ('FILM', 17), ('FA', 33), ('RPJM', 13), ('FIN', 22), ('MUS', 17), ('BUS', 56), ('CHEM', 65), ('HWL', 28), ('YDSH', 6), ('HIST', 22), ('ENVS', 31), ('COSI', 20), ('AMST', 19), ('BIOL', 31), ('ENG', 20), ('CLAS', 39), ('CHEM', 186), ('FA', 10), ('ANTH', 22), ('HS/POL', 6), ('SOC', 56), ('RUCD', 11), ('NBIO', 29), ('HSSP', 27), ('FIN', 35), ('HWL', 5), ('CHEM', 42), ('ECS/ENG', 18), ('POL/WGS', 24), ('AAPI/HIS', 40), ('BIOL', 8), ('AAAS', 2), ('MATH', 76), ('EL', 6), ('CLAS', 16), ('EBIO', 0), ('ANTH', 35), ('FIN', 12), ('REL', 26), ('RMGT', 10), ('HS', 21), ('MUS', 7), ('BUS', 46), ('NPSY', 45), ('CHEM', 55), ('HWL', 18), ('PHYS', 4), ('COSI', 10), ('INT', 4), ('BIOL', 21), ('ENG', 10), ('FA', 0), ('ANTH', 12), ('RUCD', 1), ('NBIO', 19), ('RCOM', 13), ('RPJM', 16), ('BUS', 23), ('FIN', 25), ('HS', 34), ('CLAS', 6), ('SOC', 23), ('ENG', 23), ('BUS', 0), ('FIN', 2), ('RUCD', 14), ('GS', 0), ('HS', 11), ('BUS', 36), ('HWL', 8), ('PHIL', 35), ('MATH', 43), ('SOC', 0), ('ENG', 0), ('EL', 9), ('ANTH', 2), ('BISC', 8), ('NEUR', 1), ('BUS', 13), ('HSSP', 7), ('CHEM', 22), ('RMGT', 13), ('BCBP', 5), ('MERS', 0), ('ED', 17), ('HS', 24), ('POL', 19), ('HBRW', 0), ('HISP', 16), ('SOC', 13), ('BIBC', 26), ('UWS', 14), ('LGLS', 28), ('ITAL', 12), ('RSAN', 9), ('HS', 1), ('RCOM', 16), ('ECON', 52), ('ANTH', 100), ('LAT', 8), ('JOUR', 9), ('RUS', 3), ('HBRW', 13), ('RDFT', 1), ('BUS', 3), ('ECON', 29), ('CHEM', 12), ('PHIL', 2), ('ED', 7), ('PSYC', 23), ('MATH', 10), ('SAS', 0), ('POL', 9), ('BIOL', 63), ('HISP', 6), ('RIDT', 11), ('FREN', 16), ('NEUR', 4), ('BCHM', 2), ('ED', 20), ('JAPN', 14), ('MATH', 23), ('CHIN', 8), ('HUM', 9), ('CAST', 0), ('WGS', 51), ('NEJS', 12), ('HISP', 19), ('UWS', 17), ('ECON', 19), ('MATH', 0), ('CHIN', 21), ('WGS', 28), ('RIDT', 1), ('FREN', 6), ('FA', 32), ('ECON', 32), ('PHIL', 5), ('HIST', 21), ('MATH', 13), ('AMST', 18), ('BIOL', 30), ('NEJS', 2), ('THA', 6), ('ECON', 9), ('RIAS', 6), ('PSYC', 3), ('IGS', 0), ('COMP', 7), ('AAAS', 1), ('COSI', 32), ('CHIN', 11), ('BIOL', 43), ('FA', 22), ('AAPI/HIS', 16), ('RSEG', 10), ('HWL', 17), ('PHYS', 3), ('HIST', 11), ('COSI', 9), ('HS', 56), ('HRNS', 19), ('PHIL', 80), ('BIOL', 20), ('ENVS', 141), ('RPJM', 15), ('FIN', 24), ('COSI', 166), ('HS', 33), ('RECS', 19), ('HWL', 30), ('AMST', 21), ('ENG', 22), ('FA', 12), ('ANTH', 24), ('RUCD', 13), ('QBIO', 16), ('BUS', 35), ('CHEM', 44), ('HWL', 7), ('HIST', 1), ('HS', 46), ('MUS', 32), ('HRNS', 9), ('BIOL', 10), ('COMP', 10), ('EL', 8), ('ANTH', 1), ('POL', 77), ('NBIO', 8), ('LING', 21), ('BUS', 12), ('NPSY', 11), ('CHEM', 21), ('HUM/UWS', 22), ('FIN', 14), ('HS', 23), ('MUS', 9), ('HWL', 20), ('PSYC', 68), ('MATH', 55), ('BIOL', 23), ('ENG', 12), ('FA', 2), ('ANTH', 14), ('QBIO', 6), ('NBIO', 21), ('BUS', 25), ('LGLS', 63), ('ENVS', 0), ('HS', 36), ('JOUR', 8), ('BCHM', 47), ('SJSP', 7), ('BIOL', 0), ('MATH', 68), ('RBIF', 15), ('CLAS', 8), ('SOC', 25), ('BUS', 2), ('FIN', 4), ('CHEM', 11), ('RMGT', 2), ('HS', 13), ('BCHM', 24), ('HWL', 95), ('POL', 44), ('SOC', 2), ('ENG', 2), ('COSI', 87), ('EL', 11), ('CLAS', 21), ('ANTH', 4), ('NEUR', 3), ('NBIO', 11), ('PMED', 0), ('BCHM', 1), ('ECON', 41), ('NPSY', 14), ('CHEM', 24), ('ED', 19), ('HS', 26), ('MATH', 22), ('JAPN', 13), ('NPSY', 135), ('HISP', 18), ('UWS', 16), ('CHEM', 1), ('LGLS', 30), ('HS', 3), ('IGS', 9), ('LAT', 10), ('MATH', 35), ('JOUR', 11), ('PSYC', 48), ('GER', 11), ('NEJS', 24), ('BUS', 5), ('ECON', 31), ('CHEM', 14), ('JAPN', 3), ('MATH', 12), ('PSYC', 25), ('POL', 11), ('NEJS', 1), ('HISP', 8), ('FREN', 18), ('ITAL', 4), ('SOC', 90), ('KOR', 17), ('BIOL', 186), ('ESL', 6), ('ED', 22), ('MATH', 25), ('SJSP', 0), ('CHIN', 10), ('RDMD', 10), ('HBRW', 5), ('GER', 1), ('COSI', 67), ('NEJS', 14), ('HISP', 21), ('FILM', 5), ('BUS/FIN', 9), ('THA', 18), ('ECON', 21), ('SOC', 103), ('AAAS/WGS', 31), ('MATH', 2), ('PSYC', 15), ('ARBC', 9), ('HRNS', 18), ('POL', 1), ('AAAS', 13), ('COSI', 44), ('ENG', 44), ('FREN', 8), ('CHEM', 66), ('COSI', 21), ('CHIN', 0), ('AMST', 20), ('BIOL', 32), ('NEJS', 4), ('COML', 14), ('FA', 11), ('AMST/ENG', 22), ('THA', 8), ('ECON', 11), ('FIN', 36), ('RIAS', 8), ('HIST', 0), ('PSYC', 5), ('HRNS', 8), ('HWL', 42), ('COMP', 9), ('ENG', 34), ('EBIO', 1), ('AAAS/HIS', 28), ('IIM', 1), ('ANTH', 36), ('HWL', 19), ('HIST', 13), ('ENVS', 22), ('PHYS', 5), ('COSI', 11), ('BIOL', 22), ('PSYC', 103), ('ENG', 11), ('CLAS', 30), ('FA', 1), ('ANTH', 13), ('ECON', 1), ('ANTH', 49), ('RPJM', 17), ('NPSY', 23), ('NBIO', 56), ('HS', 35), ('MUS', 21), ('CHEM', 69), ('PHIL', 59), ('ECS', 0), ('CLAS', 43), ('FA', 14), ('ANTH', 26), ('FIN', 3), ('RUCD', 15), ('RSEG', 2), ('BUS', 37), ('FIN', 39), ('HWL', 9), ('CHEM', 46), ('HIST', 3), ('COSI', 1), ('JOUR', 20), ('MUS', 34), ('AMST', 0), ('BIOL', 12), ('POL', 43), ('ENG', 1), ('EL', 10), ('ANTH', 3), ('POL', 79), ('BUS', 14), ('CHEM', 23), ('ECON/FIN', 24), ('BCBP', 6), ('RMGT', 14), ('HS', 25), ('MUS', 11), ('RBIF', 4), ('POL', 56), ('ENG', 14), ('COSI', 99), ('RHIN', 5), ('CHEM', 180), ('ANTH', 16), ('LGLS', 29), ('REL', 7), ('HS', 2), ('RCOM', 17), ('BCHM', 13), ('BUS', 27), ('LAT', 9), ('ED', 31), ('HS', 38), ('BIOL', 2), ('POL', 33), ('EL', 0), ('SOC', 27), ('BUS', 4), ('FIN', 6), ('HUM/UWS', 14), ('RMGT', 4), ('HS', 15), ('MUS', 1), ('IGS', 21), ('PHIL', 39), ('POL', 10), ('BIOT', 0), ('POL', 46), ('SOC', 4), ('ENG', 4), ('LGLS', 19), ('NEUR', 5), ('BCHM', 3), ('BUS', 17), ('ECON', 43), ('PHIL', 16), ('ED', 21), ('JOUR', 0), ('MATH', 24), ('SAS', 14), ('POL', 23), ('RBIF', 7), ('GER', 0), ('COSI', 66), ('CLAS', 0), ('HISP', 20), ('SOC', 17), ('COSI', 102), ('UWS', 18), ('HIST/WGS', 21), ('CHEM', 3), ('ITAL', 16), ('IGS', 11), ('ARBC', 8), ('BCHM', 16), ('ECON', 56), ('PHIL', 29), ('LAT', 12), ('POL', 0), ('RDMD', 22), ('RIDT', 2), ('ECON', 33), ('PHIL', 6), ('MATH', 14), ('LING', 28), ('POL', 13), ('COSI', 56), ('NEJS', 3), ('HISP', 10), ('THA', 7), ('ECON', 10), ('ITAL', 6), ('BUS/FIN', 34), ('SOC', 92), ('RIAS', 7), ('PSYC', 4), ('IGS', 1), ('ECON', 46), ('ESL', 8), ('HIST', 35), ('MATH', 27), ('COSI', 33), ('CHIN', 12), ('BCHM', 91), ('BIOL', 44), ('LING', 41), ('RDMD', 12), ('PHYS', 63), ('CAST', 4), ('NEJS', 16), ('IIM', 0), ('THA', 20), ('ECON', 23), ('ED', 1), ('MATH', 4), ('HIST', 12), ('AAAS', 15), ('HISP', 0), ('ECON', 0), ('FREN', 10), ('CHEM', 68), ('YDSH', 9), ('HIST', 25), ('HS', 70), ('WGS', 9), ('AMST', 22), ('NEJS', 6), ('EL', 32), ('LALS', 18), ('FA', 13), ('ANTH', 25), ('THA', 10), ('ECON', 13), ('HSSP', 30), ('HIST', 2), ('PSYC', 7), ('COSI', 0), ('HS', 47), ('HRNS', 10), ('COMP', 11), ('AAAS', 5), ('FA', 26), ('RPJM', 6), ('FIN', 15), ('MUS', 10), ('HWL', 21), ('PHYS', 7), ('HIST', 15), ('COSI', 13), ('INT', 7), ('BIOL', 24), ('PSYC', 105), ('ENG', 13), ('FA', 3), ('SOC', 49), ('BUS', 26), ('GRK', 5), ('ENVS', 1), ('HS', 37), ('HRNS', 0), ('BUS', 62), ('CHEM', 71), ('BIOL', 1), ('ENG', 26), ('QR', 30), ('AAAS/HIS', 20), ('FA', 16), ('ANTH', 28), ('FIN', 5), ('REL', 19), ('RUCD', 17), ('HS', 14), ('MUS', 0), ('BUS', 39), ('HSSP', 33), ('HWL', 11), ('COSI', 3), ('JOUR', 22), ('BIOL', 14), ('ENG', 3), ('EL', 12), ('ANTH', 5), ('RPJM', 9), ('BUS', 16), ('NPSY', 15), ('FIN', 18), ('HSSP', 10), ('HS', 27), ('MUS', 13), ('MATH', 59), ('SOC', 16), ('ENG', 16), ('COSI', 101), ('RHIN', 7), ('ANTH', 18), ('CHEM', 2), ('ITAL', 15), ('RUCD', 7), ('RSAN', 12), ('NBIO', 25), ('HS', 4), ('BUS', 29), ('CHEM', 38), ('PHIL', 28), ('RUS', 6), ('HBRW', 16), ('COSI', 78), ('SOC', 29), ('PSYC', 170), ('BUS', 6), ('HSSP', 0), ('FIN', 8), ('CHEM', 15), ('RECS/THA', 14), ('RMGT', 6), ('JAPN', 4), ('HS', 17), ('MUS', 3), ('IGS', 23), ('BCHM', 28), ('POL', 12), ('HIST', 57), ('MATH', 49), ('WGS', 41), ('BIOT', 2), ('LING', 63), ('SOC', 6), ('RIDT', 14), ('LGLS', 21), ('BUS/FIN', 33), ('ESL', 7), ('PHIL', 18), ('JAPN', 17), ('MATH', 26), ('HBRW', 6), ('RBIF', 9), ('CAST', 3), ('HISP', 22), ('CHEM', 5), ('RSAN', 15), ('ED', 0), ('HS', 7), ('ARBC', 10), ('ECON', 58), ('PHIL', 31), ('POL', 2), ('WGS', 31), ('INT', 39), ('RUS', 9), ('AAAS', 50), ('PHYS', 75), ('RDFT', 7), ('NEJS', 28), ('RIDT', 4), ('BIOL', 92), ('ECON', 35), ('JAPN', 7), ('MATH', 16), ('HIST', 24), ('ED', 13), ('CHIN', 1), ('POL', 15), ('PHYS', 52), ('NEJS', 5), ('HISP', 12), ('THA', 9), ('ECON', 12), ('RSAN', 5), ('PSYC', 6), ('ARBC', 0), ('CHEM', 80), ('LING', 7), ('RBOT', 7), ('PHYS', 29), ('CHIN', 14), ('BIOL', 46), ('RDMD', 14), ('FA', 25), ('LGLS', 1), ('ENG', 71), ('THA', 22), ('ECON', 25), ('HIST', 14), ('MATH', 6), ('ED', 3), ('ARBC', 13), ('ENVS', 23), ('HRNS', 22), ('MUS', 45), ('COSI', 48), ('BIOL', 59), ('ECON', 2), ('ECON/FIN', 35), ('ECS', 1), ('ENVS', 36), ('COSI', 25), ('ENG', 25), ('FA', 15), ('ANTH', 27), ('RSEG', 3), ('BUS', 38), ('CHEM', 47), ('HWL', 10), ('FIN', 40), ('NBIO', 70), ('HIST', 4), ('PSYC', 9), ('COSI', 2), ('AMST', 1), ('BIOL', 13), ('COMP', 13), ('ENG', 38), ('RMGT', 15), ('MUS', 12), ('HWL', 23), ('PHYS', 9), ('COSI', 15), ('WGS', 1), ('BIOL', 26), ('ENG', 15), ('RHIN', 6), ('COML', 8), ('ANTH', 17), ('BUS', 28), ('HSSP', 22), ('FIN', 30), ('HWL', 0), ('CHEM', 37), ('HS', 39), ('BIOL', 3), ('CHSC', 20), ('CLAS', 11), ('PHYS', 107), ('FIN', 7), ('HS', 16), ('MUS', 2), ('BUS', 41), ('HSSP', 35), ('NPSY', 40), ('HWL', 13), ('COSI', 5), ('MATH', 48), ('PHIL', 76), ('BIOL', 16), ('ENG', 5), ('CBIO', 22), ('LALS', 0), ('ANTH', 7), ('NEUR', 6), ('BUS', 18), ('FIN', 20), ('CHEM', 27), ('LAT', 0), ('BCBP', 10), ('EAS', 0), ('JAPN', 16), ('HS', 29), ('MUS', 15), ('JOUR', 1), ('CLAS', 1), ('BIOT', 14), ('RHIN', 9), ('CHEM', 4), ('BISC', 26), ('HS', 6), ('BUS', 31), ('BUS/ECON', 16), ('MATH', 38), ('IGS', 48), ('EL', 4), ('CHIN', 59), ('BUS', 8), ('ECON', 34), ('CHEM', 17), ('LGLS', 46), ('BCBP', 0), ('ED', 12), ('HS', 19), ('JAPN', 6), ('MATH', 15), ('POL', 14), ('HISP', 11), ('SOC', 8), ('UWS', 9), ('LGLS', 23), ('NEUR', 9), ('KOR', 20), ('ECON', 47), ('ESL', 9), ('AMST/MUS', 22), ('JAPN', 19), ('MATH', 28), ('ED', 25), ('CHIN', 13), ('RDMD', 13), ('HBRW', 8), ('NEJS', 17), ('LGLS', 0), ('THA', 21), ('ECON', 24), ('CHEM', 7), ('RSAN', 17), ('ED', 2), ('MATH', 5), ('IMES', 0), ('COSI', 47), ('RUS', 11), ('PHYS', 77), ('RDFT', 9), ('FREN', 11), ('KOR', 10), ('ECON', 37), ('ED', 15), ('MATH', 18), ('HIST', 26), ('ENVS', 35), ('CHIN', 3), ('NEJS', 7), ('ECON', 14), ('PSYC', 8), ('IGS', 5), ('RBOT', 9), ('COSI', 37), ('CHIN', 16), ('FA', 27), ('ANTH', 39), ('ECON', 27), ('YDSH', 0), ('HWL', 22), ('PHYS', 8), ('MATH', 8), ('ENVS', 25), ('COSI', 14), ('WGS', 0), ('BIOL', 25), ('BIOL', 61), ('FA', 4), ('BIPH', 0), ('AMST/ENG', 15), ('THA', 1), ('ECON', 4), ('FIN', 29), ('GRK', 6), ('ENVS', 2), ('HRNS', 1), ('HIST', 29), ('BIOL', 38), ('PSYC', 119), ('FILM', 1), ('ANTH', 29), ('RUCD', 18), ('RSEG', 5), ('BUS', 40), ('HSSP', 34), ('CHEM', 49), ('HWL', 12), ('CA', 21), ('HIST', 6), ('HRNS', 14), ('COMP', 15), ('PSYC', 96), ('EL', 13), ('ANTH', 6), ('ENG', 40), ('BIOL', 136), ('RPJM', 10), ('NPSY', 16), ('FIN', 19), ('HS', 28), ('BUS', 53), ('HWL', 25), ('PHYS', 11), ('COSI', 17), ('BIOL', 28), ('HWL', 784), ('ENG', 17), ('RHIN', 8), ('ANTH', 19), ('RUCD', 8), ('QBIO', 11), ('BUS', 30), ('HSSP', 24), ('CHEM', 39), ('HWL', 2), ('HS', 41), ('HRNS', 4), ('BIOL', 5), ('EL', 3), ('PHYS', 109), ('SOC', 30), ('ENG', 30), ('BUS', 7), ('HSSP', 1), ('FIN', 9), ('CHEM', 16), ('ECON/FIN', 17), ('HS', 18), ('MUS', 4), ('BCHM', 29), ('ECON', 69), ('CHEM', 52), ('BIOT', 3), ('AAPI/WGS', 4), ('SOC', 7), ('ENG', 7), ('COSI', 92), ('CLAS/NEJ', 20), ('ANTH', 9), ('REL', 0), ('BUS', 20), ('NPSY', 19), ('CHEM', 29), ('PHIL', 19), ('HSSP', 14), ('ED', 24), ('HS', 31), ('JAPN', 18), ('ANTH/WGS', 26), ('PHIL', 55), ('HBRW', 7), ('RBIF', 10), ('SOC', 20), ('FILM', 43), ('CHEM', 6), ('HS', 8), ('BCHM', 19), ('POL', 3), ('ED', 37), ('MATH', 40), ('IGS', 50), ('RUS', 10), ('HIST', 84), ('GER', 16), ('RDFT', 8), ('NEJS', 29), ('BISC', 5), ('NBIO', 6), ('BUS', 10), ('ECON', 36), ('BCBP', 2), ('JAPN', 8), ('MATH', 17), ('PSYC', 30), ('POL', 16), ('CHIN', 38), ('HISP', 13), ('SOC', 10), ('NEJS', 42), ('LGLS', 25), ('AAAS/WGS', 23), ('IGS', 4), ('PHIL', 22), ('RUS', 0), ('RDMD', 15), ('HBRW', 10), ('GER', 6), ('FREN', 0), ('THA', 23), ('ED', 4), ('MATH', 7), ('PSYC', 20), ('POL', 6)}\n"
     ]
    }
   ],
   "source": [
    "# temp = set()\n",
    "# for c in courses:\n",
    "#     temp.add((c['subject'], c['enrolled']))\n",
    "    \n",
    "    \n",
    "all_course_size = {(c['subject'], c['enrolled']) for c in courses}\n",
    "print(temp)"
   ]
  },
  {
   "cell_type": "markdown",
   "metadata": {},
   "source": [
    "# e) do the same as in (d) but print the top 10 subjects in terms of number of courses offered\n"
   ]
  },
  {
   "cell_type": "code",
   "execution_count": null,
   "metadata": {},
   "outputs": [],
   "source": []
  },
  {
   "cell_type": "markdown",
   "metadata": {},
   "source": [
    "# f) do the same as (d) but print the top 10 subjects in terms of number of faculty teaching courses in that subject\n"
   ]
  },
  {
   "cell_type": "code",
   "execution_count": null,
   "metadata": {},
   "outputs": [],
   "source": []
  },
  {
   "cell_type": "markdown",
   "metadata": {},
   "source": [
    "# g) list the top 20 faculty in terms of number of students they taught\n"
   ]
  },
  {
   "cell_type": "code",
   "execution_count": null,
   "metadata": {},
   "outputs": [],
   "source": []
  },
  {
   "cell_type": "markdown",
   "metadata": {},
   "source": [
    "# h) list the top 20 courses in terms of number of students taking that course (where you combine different sections and semesters, i.e. just use the subject and course number)\n"
   ]
  },
  {
   "cell_type": "code",
   "execution_count": null,
   "metadata": {},
   "outputs": [],
   "source": []
  },
  {
   "cell_type": "markdown",
   "metadata": {},
   "source": [
    "# i) Create your own interesting question (each team member creates their own) and use Python to answer that question."
   ]
  },
  {
   "cell_type": "code",
   "execution_count": null,
   "metadata": {},
   "outputs": [],
   "source": []
  }
 ],
 "metadata": {
  "kernelspec": {
   "display_name": "Python 3 (ipykernel)",
   "language": "python",
   "name": "python3"
  },
  "language_info": {
   "codemirror_mode": {
    "name": "ipython",
    "version": 3
   },
   "file_extension": ".py",
   "mimetype": "text/x-python",
   "name": "python",
   "nbconvert_exporter": "python",
   "pygments_lexer": "ipython3",
   "version": "3.9.7"
  }
 },
 "nbformat": 4,
 "nbformat_minor": 4
}
